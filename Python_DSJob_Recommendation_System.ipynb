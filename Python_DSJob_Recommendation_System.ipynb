{
 "cells": [
  {
   "cell_type": "code",
   "execution_count": 1,
   "id": "conceptual-color",
   "metadata": {},
   "outputs": [],
   "source": [
    "from bs4 import BeautifulSoup\n",
    "import requests\n",
    "import csv\n",
    "from time import sleep\n",
    "from random import randint\n",
    "from datetime import datetime\n",
    "import re as re\n",
    "import pandas as pd\n",
    "import matplotlib.pyplot as plt\n",
    "import seaborn as sns\n",
    "#Importing Libraries"
   ]
  },
  {
   "cell_type": "code",
   "execution_count": 2,
   "id": "legitimate-methodology",
   "metadata": {},
   "outputs": [],
   "source": [
    "import warnings #Importing warnings \n",
    "warnings.simplefilter(action='ignore', category=Warning)"
   ]
  },
  {
   "cell_type": "code",
   "execution_count": 3,
   "id": "expanded-greene",
   "metadata": {},
   "outputs": [],
   "source": [
    "def get_url(position, location):\n",
    "        template = 'https://www.indeed.com/jobs?q={}&l={}'\n",
    "        url = template.format(position, location)\n",
    "        return url\n",
    "\n",
    "def get_record(card):\n",
    "    spantag = card.div.h2\n",
    "    try:\n",
    "        temp=spantag.text\n",
    "        if \"new\" in temp[0:4]:# Extracting job title\n",
    "            job_title=temp.replace(\"new\",\"\")\n",
    "        else:\n",
    "            job_title=temp\n",
    "      \n",
    "    except AttributeError:\n",
    "        job_title = ''\n",
    "    try:\n",
    "        company = card.find('span', 'companyName').text.strip()#Extracting company Name.\n",
    "    except AttributeError:\n",
    "        company = ''\n",
    "    try:\n",
    "        location = card.find('div', 'companyLocation').text# Extracting company Location.\n",
    "    except AttributeError:\n",
    "        location = ''\n",
    "    try:\n",
    "        job_summary = card.find('div', 'job-snippet').text.strip()#Extracting job summary.\n",
    "    except AttributeError:\n",
    "        job_summary = ''\n",
    "    try:\n",
    "        post_date = card.find('span', 'date').text.strip()#Extracting job posted date.\n",
    "    except AttributeError:\n",
    "        post_date = ''\n",
    "    try:\n",
    "        salary = card.find('div', 'attribute_snippet').text.strip()#Extracting salary information.\n",
    "    except AttributeError:\n",
    "        salary = ''\n",
    "    \n",
    "    extract_date = datetime.today().strftime('%Y-%m-%d')#Current date and time. \n",
    "\n",
    "    \n",
    "    return (job_title, company, location, job_summary, salary, post_date, extract_date)\n",
    "\n",
    "def main(position, location):\n",
    "  \n",
    "    records = []  \n",
    "    url = get_url(position, location) \n",
    "    \n",
    "    while True:\n",
    "        print(url)\n",
    "        response = requests.get(url)\n",
    "        soup = BeautifulSoup(response.text, 'html.parser')\n",
    "        cards = soup.find_all('div', 'job_seen_beacon')\n",
    "\n",
    "        for card in cards:\n",
    "            record = get_record(card)\n",
    "            records.append(record)\n",
    "\n",
    "        try:\n",
    "            url = 'https://www.indeed.com' + soup.find('a', {'aria-label': 'Next'}).get('href')\n",
    "            delay = randint(1, 10)\n",
    "            sleep(delay)\n",
    "        except AttributeError:\n",
    "            break\n",
    "\n",
    "    with open('Data Science job.csv', 'w', newline='', encoding='utf-8') as f:#Saving the file as csv.\n",
    "        writer = csv.writer(f)\n",
    "        writer.writerow(['Job Title', 'Company', 'Location', 'Summary' ,'Salary', 'Posting Date', 'Extract Date'])\n",
    "        writer.writerows(records)"
   ]
  },
  {
   "cell_type": "code",
   "execution_count": 38,
   "id": "parallel-wrapping",
   "metadata": {},
   "outputs": [],
   "source": [
    "#main('Data Scientist', 'United States')#This will run the webscraper and create new data as per extracted. \n",
    "#For maintaining the same visualizations, we are using already webscraped generated csv file Data Science job.csv for analysis."
   ]
  },
  {
   "cell_type": "code",
   "execution_count": 5,
   "id": "exceptional-peter",
   "metadata": {},
   "outputs": [],
   "source": [
    "data=pd.read_csv(\"Data Science job.csv\")# Reading uncleaned csv file to dataframe\n",
    "df=data"
   ]
  },
  {
   "cell_type": "code",
   "execution_count": 6,
   "id": "vertical-mobile",
   "metadata": {},
   "outputs": [],
   "source": [
    "df = df.dropna(subset=['Job Title'])\n",
    "df.loc[df['Job Title'].str.contains('Sr'), 'Job Title'] = 'Senior Data Scientist'\n",
    "df.loc[df['Job Title'].str.contains('Jr'), 'Job Title'] = 'Junior Data Scientist'\n",
    "df.loc[df['Job Title'].str.contains('JR'), 'Job Title'] = 'Junior Data Scientist'\n",
    "df.loc[df['Job Title'].str.contains('Remote'), 'Job Title'] = 'Data Scientist'\n",
    "\n",
    "df[['Job Title', 'redundant']] = df['Job Title'].str.split(',',n=1, expand=True)\n",
    "df[['Job Title', 'redundant2']] = df['Job Title'].str.split(' -',n=1, expand=True)"
   ]
  },
  {
   "cell_type": "code",
   "execution_count": 7,
   "id": "applicable-sequence",
   "metadata": {},
   "outputs": [],
   "source": [
    "v = df[\"Job Title\"].value_counts()\n",
    "df2=df[df[\"Job Title\"].isin(v.index[v.gt(3)])]"
   ]
  },
  {
   "cell_type": "code",
   "execution_count": 8,
   "id": "designing-swift",
   "metadata": {},
   "outputs": [],
   "source": [
    "Job_Title_Table=df2[\"Job Title\"].value_counts()"
   ]
  },
  {
   "cell_type": "code",
   "execution_count": 9,
   "id": "informative-watch",
   "metadata": {},
   "outputs": [
    {
     "data": {
      "text/plain": [
       "Data Scientist                 493\n",
       "Senior Data Scientist          120\n",
       "Junior Data Scientist           20\n",
       "Data Scientist I                20\n",
       "Lead Data Scientist             17\n",
       "Associate Data Scientist        13\n",
       "Data Scientist II               11\n",
       "Chief Data Scientist             8\n",
       "Principal Data Scientist         6\n",
       "NLP Data Scientist               5\n",
       "Machine Learning Engineer        5\n",
       "Staff Data Scientist             5\n",
       "Senior Data Analyst              5\n",
       "Data Scientist- Summer 2022      4\n",
       "Product Data Scientist           4\n",
       "Name: Job Title, dtype: int64"
      ]
     },
     "execution_count": 9,
     "metadata": {},
     "output_type": "execute_result"
    }
   ],
   "source": [
    "Job_Title_Table"
   ]
  },
  {
   "cell_type": "code",
   "execution_count": 10,
   "id": "above-collins",
   "metadata": {},
   "outputs": [
    {
     "data": {
      "text/plain": [
       "(989, 9)"
      ]
     },
     "execution_count": 10,
     "metadata": {},
     "output_type": "execute_result"
    }
   ],
   "source": [
    "df.shape"
   ]
  },
  {
   "cell_type": "markdown",
   "id": "cardiovascular-tribute",
   "metadata": {},
   "source": [
    "## Location Column Refining"
   ]
  },
  {
   "cell_type": "code",
   "execution_count": 11,
   "id": "animated-saying",
   "metadata": {},
   "outputs": [
    {
     "data": {
      "text/html": [
       "<div>\n",
       "<style scoped>\n",
       "    .dataframe tbody tr th:only-of-type {\n",
       "        vertical-align: middle;\n",
       "    }\n",
       "\n",
       "    .dataframe tbody tr th {\n",
       "        vertical-align: top;\n",
       "    }\n",
       "\n",
       "    .dataframe thead th {\n",
       "        text-align: right;\n",
       "    }\n",
       "</style>\n",
       "<table border=\"1\" class=\"dataframe\">\n",
       "  <thead>\n",
       "    <tr style=\"text-align: right;\">\n",
       "      <th></th>\n",
       "      <th>Job Title</th>\n",
       "      <th>Company</th>\n",
       "      <th>Location</th>\n",
       "      <th>Summary</th>\n",
       "      <th>Salary</th>\n",
       "      <th>Posting Date</th>\n",
       "      <th>Extract Date</th>\n",
       "      <th>redundant</th>\n",
       "      <th>redundant2</th>\n",
       "    </tr>\n",
       "  </thead>\n",
       "  <tbody>\n",
       "    <tr>\n",
       "      <th>0</th>\n",
       "      <td>Junior Data Scientist</td>\n",
       "      <td>SRI International</td>\n",
       "      <td>Arlington, VA 22209 (Radnor-Ft Myer Heights ar...</td>\n",
       "      <td>1-2 years working with data scientists to supp...</td>\n",
       "      <td>$92,192 - $115,240 a year</td>\n",
       "      <td>PostedToday</td>\n",
       "      <td>2021-12-02</td>\n",
       "      <td>None</td>\n",
       "      <td>None</td>\n",
       "    </tr>\n",
       "    <tr>\n",
       "      <th>1</th>\n",
       "      <td>Data Scientist</td>\n",
       "      <td>Good Tree</td>\n",
       "      <td>Montebello, CA 90640•Remote</td>\n",
       "      <td>You will build data products to extract valuab...</td>\n",
       "      <td>$45 an hour</td>\n",
       "      <td>PostedToday</td>\n",
       "      <td>2021-12-02</td>\n",
       "      <td>None</td>\n",
       "      <td>None</td>\n",
       "    </tr>\n",
       "    <tr>\n",
       "      <th>2</th>\n",
       "      <td>Junior Data Scientist</td>\n",
       "      <td>Aignyte</td>\n",
       "      <td>Remote</td>\n",
       "      <td>Experience in machine and statistical learning...</td>\n",
       "      <td>$70,000 - $90,000 a year</td>\n",
       "      <td>EmployerActive 1 day ago</td>\n",
       "      <td>2021-12-02</td>\n",
       "      <td>None</td>\n",
       "      <td>None</td>\n",
       "    </tr>\n",
       "    <tr>\n",
       "      <th>4</th>\n",
       "      <td>Senior Data Scientist</td>\n",
       "      <td>Netflix</td>\n",
       "      <td>Los Gatos, CA+3 locations•Remote</td>\n",
       "      <td>Effectively identify and apply analytics, caus...</td>\n",
       "      <td>NaN</td>\n",
       "      <td>PostedToday</td>\n",
       "      <td>2021-12-02</td>\n",
       "      <td>None</td>\n",
       "      <td>None</td>\n",
       "    </tr>\n",
       "    <tr>\n",
       "      <th>5</th>\n",
       "      <td>Data Scientist</td>\n",
       "      <td>Belcan</td>\n",
       "      <td>West Sacramento, CA+1 location</td>\n",
       "      <td>Responsible for experimental design, novel sta...</td>\n",
       "      <td>Contract</td>\n",
       "      <td>Posted1 day ago</td>\n",
       "      <td>2021-12-02</td>\n",
       "      <td>None</td>\n",
       "      <td>None</td>\n",
       "    </tr>\n",
       "  </tbody>\n",
       "</table>\n",
       "</div>"
      ],
      "text/plain": [
       "               Job Title            Company  \\\n",
       "0  Junior Data Scientist  SRI International   \n",
       "1         Data Scientist          Good Tree   \n",
       "2  Junior Data Scientist            Aignyte   \n",
       "4  Senior Data Scientist            Netflix   \n",
       "5         Data Scientist             Belcan   \n",
       "\n",
       "                                            Location  \\\n",
       "0  Arlington, VA 22209 (Radnor-Ft Myer Heights ar...   \n",
       "1                        Montebello, CA 90640•Remote   \n",
       "2                                             Remote   \n",
       "4                   Los Gatos, CA+3 locations•Remote   \n",
       "5                     West Sacramento, CA+1 location   \n",
       "\n",
       "                                             Summary  \\\n",
       "0  1-2 years working with data scientists to supp...   \n",
       "1  You will build data products to extract valuab...   \n",
       "2  Experience in machine and statistical learning...   \n",
       "4  Effectively identify and apply analytics, caus...   \n",
       "5  Responsible for experimental design, novel sta...   \n",
       "\n",
       "                      Salary              Posting Date Extract Date redundant  \\\n",
       "0  $92,192 - $115,240 a year               PostedToday   2021-12-02      None   \n",
       "1                $45 an hour               PostedToday   2021-12-02      None   \n",
       "2   $70,000 - $90,000 a year  EmployerActive 1 day ago   2021-12-02      None   \n",
       "4                        NaN               PostedToday   2021-12-02      None   \n",
       "5                   Contract           Posted1 day ago   2021-12-02      None   \n",
       "\n",
       "  redundant2  \n",
       "0       None  \n",
       "1       None  \n",
       "2       None  \n",
       "4       None  \n",
       "5       None  "
      ]
     },
     "execution_count": 11,
     "metadata": {},
     "output_type": "execute_result"
    }
   ],
   "source": [
    "df2.head()"
   ]
  },
  {
   "cell_type": "code",
   "execution_count": 12,
   "id": "considerable-estonia",
   "metadata": {},
   "outputs": [],
   "source": [
    "df2[['City', 'State']] = df['Location'].str.split(',',n=1, expand=True)\n",
    "df2.loc[df2['City'].str.contains('Remote'), 'City'] = 'Remote'\n",
    "df2.loc[df2['City'].str.contains('Virgin Islands'), 'City'] = 'Virgin Islands'\n",
    "\n",
    "df2['State_Abbrevation'] = df2['State'].astype(str).str[0:3]\n",
    "df2['State_Abbrevation']=df2['State_Abbrevation'].str.strip()\n",
    "df2.loc[df2['State_Abbrevation'].str.contains('Non'), 'State_Abbrevation'] = 'Remote'"
   ]
  },
  {
   "cell_type": "code",
   "execution_count": 13,
   "id": "isolated-smile",
   "metadata": {},
   "outputs": [],
   "source": [
    "us_state_to_abbrev = {\n",
    "    \"Remote\":\"Remote\",\n",
    "    \"Alabama\": \"AL\",\n",
    "    \"Alaska\": \"AK\",\n",
    "    \"Arizona\": \"AZ\",\n",
    "    \"Arkansas\": \"AR\",\n",
    "    \"California\": \"CA\",\n",
    "    \"Colorado\": \"CO\",\n",
    "    \"Connecticut\": \"CT\",\n",
    "    \"Delaware\": \"DE\",\n",
    "    \"Florida\": \"FL\",\n",
    "    \"Georgia\": \"GA\",\n",
    "    \"Hawaii\": \"HI\",\n",
    "    \"Idaho\": \"ID\",\n",
    "    \"Illinois\": \"IL\",\n",
    "    \"Indiana\": \"IN\",\n",
    "    \"Iowa\": \"IA\",\n",
    "    \"Kansas\": \"KS\",\n",
    "    \"Kentucky\": \"KY\",\n",
    "    \"Louisiana\": \"LA\",\n",
    "    \"Maine\": \"ME\",\n",
    "    \"Maryland\": \"MD\",\n",
    "    \"Massachusetts\": \"MA\",\n",
    "    \"Michigan\": \"MI\",\n",
    "    \"Minnesota\": \"MN\",\n",
    "    \"Mississippi\": \"MS\",\n",
    "    \"Missouri\": \"MO\",\n",
    "    \"Montana\": \"MT\",\n",
    "    \"Nebraska\": \"NE\",\n",
    "    \"Nevada\": \"NV\",\n",
    "    \"New Hampshire\": \"NH\",\n",
    "    \"New Jersey\": \"NJ\",\n",
    "    \"New Mexico\": \"NM\",\n",
    "    \"New York\": \"NY\",\n",
    "    \"North Carolina\": \"NC\",\n",
    "    \"North Dakota\": \"ND\",\n",
    "    \"Ohio\": \"OH\",\n",
    "    \"Oklahoma\": \"OK\",\n",
    "    \"Oregon\": \"OR\",\n",
    "    \"Pennsylvania\": \"PA\",\n",
    "    \"Rhode Island\": \"RI\",\n",
    "    \"South Carolina\": \"SC\",\n",
    "    \"South Dakota\": \"SD\",\n",
    "    \"Tennessee\": \"TN\",\n",
    "    \"Texas\": \"TX\",\n",
    "    \"Utah\": \"UT\",\n",
    "    \"Vermont\": \"VT\",\n",
    "    \"Virginia\": \"VA\",\n",
    "    \"Washington\": \"WA\",\n",
    "    \"West Virginia\": \"WV\",\n",
    "    \"Wisconsin\": \"WI\",\n",
    "    \"Wyoming\": \"WY\",\n",
    "    \"District of Columbia\": \"DC\",\n",
    "    \"American Samoa\": \"AS\",\n",
    "    \"Guam\": \"GU\",\n",
    "    \"Northern Mariana Islands\": \"MP\",\n",
    "    \"Puerto Rico\": \"PR\",\n",
    "    \"United States Minor Outlying Islands\": \"UM\",\n",
    "    \"U.S. Virgin Islands\": \"VI\",\n",
    "}"
   ]
  },
  {
   "cell_type": "code",
   "execution_count": 14,
   "id": "underlying-living",
   "metadata": {},
   "outputs": [],
   "source": [
    "abbrev_to_us_state = dict(map(reversed, us_state_to_abbrev.items()))"
   ]
  },
  {
   "cell_type": "code",
   "execution_count": 15,
   "id": "infrared-messenger",
   "metadata": {},
   "outputs": [],
   "source": [
    "df2['State_Abbrevation']=df2['State_Abbrevation'].map(abbrev_to_us_state)\n",
    "df2.drop([\"Location\",\"redundant\" ,\"redundant2\",\"State\"], inplace=True,axis=1)"
   ]
  },
  {
   "cell_type": "code",
   "execution_count": 16,
   "id": "grateful-bumper",
   "metadata": {},
   "outputs": [
    {
     "data": {
      "text/plain": [
       "Posted30+ days ago            329\n",
       "PostedToday                    65\n",
       "Posted2 days ago               32\n",
       "EmployerActive 2 days ago      31\n",
       "Posted1 day ago                22\n",
       "Posted9 days ago               17\n",
       "Posted16 days ago              17\n",
       "Posted12 days ago              15\n",
       "Posted8 days ago               14\n",
       "Posted15 days ago              13\n",
       "Posted26 days ago              13\n",
       "Posted23 days ago              13\n",
       "Posted19 days ago              12\n",
       "EmployerActive 3 days ago      12\n",
       "Posted7 days ago               11\n",
       "EmployerActive 1 day ago       10\n",
       "Posted21 days ago              10\n",
       "Posted14 days ago               9\n",
       "Posted13 days ago               8\n",
       "Posted28 days ago               7\n",
       "Posted27 days ago               7\n",
       "Posted3 days ago                6\n",
       "Posted20 days ago               5\n",
       "Posted29 days ago               5\n",
       "EmployerActive 15 days ago      5\n",
       "Posted11 days ago               4\n",
       "Posted25 days ago               4\n",
       "EmployerActive 10 days ago      3\n",
       "EmployerActive 13 days ago      3\n",
       "EmployerActive 8 days ago       3\n",
       "Posted5 days ago                3\n",
       "Posted17 days ago               3\n",
       "EmployerActive 12 days ago      3\n",
       "Posted10 days ago               3\n",
       "Posted30 days ago               3\n",
       "Posted22 days ago               3\n",
       "PostedJust posted               2\n",
       "EmployerActive 20 days ago      2\n",
       "Posted24 days ago               2\n",
       "Posted18 days ago               2\n",
       "EmployerActive 21 days ago      1\n",
       "EmployerActive 6 days ago       1\n",
       "EmployerActive 14 days ago      1\n",
       "EmployerActive 16 days ago      1\n",
       "EmployerActive 23 days ago      1\n",
       "Name: Posting Date, dtype: int64"
      ]
     },
     "execution_count": 16,
     "metadata": {},
     "output_type": "execute_result"
    }
   ],
   "source": [
    "df2[\"Posting Date\"].value_counts()"
   ]
  },
  {
   "cell_type": "code",
   "execution_count": 17,
   "id": "worst-survival",
   "metadata": {},
   "outputs": [],
   "source": [
    "df2.loc[df2['Posting Date'].str.contains('Posted'), 'Posting Date'] = df2[\"Posting Date\"].astype(str).str[6:]\n",
    "df2.loc[df2['Posting Date'].str.contains('EmployerActive'), 'Posting Date'] = df2[\"Posting Date\"].astype(str).str[15:]\n",
    "df2['Posting Date']=df2[\"Posting Date\"].str.strip()"
   ]
  },
  {
   "cell_type": "code",
   "execution_count": 18,
   "id": "prerequisite-metallic",
   "metadata": {},
   "outputs": [
    {
     "data": {
      "text/plain": [
       "30+ days ago    329\n",
       "Today            65\n",
       "2 days ago       63\n",
       "1 day ago        32\n",
       "12 days ago      18\n",
       "16 days ago      18\n",
       "3 days ago       18\n",
       "15 days ago      18\n",
       "9 days ago       17\n",
       "8 days ago       17\n",
       "23 days ago      14\n",
       "26 days ago      13\n",
       "19 days ago      12\n",
       "7 days ago       11\n",
       "13 days ago      11\n",
       "21 days ago      11\n",
       "14 days ago      10\n",
       "27 days ago       7\n",
       "20 days ago       7\n",
       "28 days ago       7\n",
       "10 days ago       6\n",
       "29 days ago       5\n",
       "25 days ago       4\n",
       "11 days ago       4\n",
       "22 days ago       3\n",
       "30 days ago       3\n",
       "5 days ago        3\n",
       "17 days ago       3\n",
       "24 days ago       2\n",
       "18 days ago       2\n",
       "Just posted       2\n",
       "6 days ago        1\n",
       "Name: Posting Date, dtype: int64"
      ]
     },
     "execution_count": 18,
     "metadata": {},
     "output_type": "execute_result"
    }
   ],
   "source": [
    "df2[\"Posting Date\"].value_counts()"
   ]
  },
  {
   "cell_type": "code",
   "execution_count": 19,
   "id": "blessed-exclusion",
   "metadata": {},
   "outputs": [],
   "source": [
    "df2.loc[df2['Posting Date'].str.contains('Just posted'), 'Posting Date'] = 'Today'"
   ]
  },
  {
   "cell_type": "code",
   "execution_count": 20,
   "id": "ongoing-cable",
   "metadata": {},
   "outputs": [
    {
     "data": {
      "text/plain": [
       "Index(['Full-time', 'Contract', '$90,000 - $120,000 a year', '$35.28 an hour',\n",
       "       'Up to $70 an hour', '$50 - $60 an hour', 'From $130,000 a year',\n",
       "       '$100,000 - $120,000 a year', '$44 an hour',\n",
       "       '$110,000 - $130,000 a year', '$80,000 - $120,000 a year',\n",
       "       '$130,000 - $165,000 a year', '$142,400 a year',\n",
       "       '$106,500 - $130,200 a year', '$125,000 a year',\n",
       "       '$100,000 - $150,000 a year', '$80,000 - $100,000 a year',\n",
       "       '$400 - $500 a day', '$22.99 - $25.86 an hour',\n",
       "       '$99,112 - $130,083 a year', '$85,000 - $95,000 a year',\n",
       "       'From $100,000 a year', '$74,150 - $185,060 a year',\n",
       "       '$60,000 - $80,000 a year', '$65,000 - $187,450 a year',\n",
       "       '$50,000 - $75,000 a year', '$25 an hour', '$87,000 - $121,000 a year',\n",
       "       '$140,000 - $170,000 a year', '$155,000 - $195,000 a year',\n",
       "       '$50,000 - $80,000 a year', 'Up to $195,500 a year',\n",
       "       '$7,545 - $12,509 a month', 'Internship', '$100,000 - $218,163 a year',\n",
       "       '$150,000 - $175,000 a year', '$130,000 - $140,000 a year',\n",
       "       'Up to $85 an hour', '$115,638 a year', '$130,000 - $150,000 a year',\n",
       "       '$95,000 - $130,000 a year', '$32 - $79 an hour', '$40 - $80 an hour',\n",
       "       '$59,508 - $120,000 a year', '$92,192 - $115,240 a year',\n",
       "       'From $150,000 a year', '$60,000 - $90,637 a year',\n",
       "       '$75,000 - $110,000 a year', '$29 an hour', '$90,000 a year',\n",
       "       '$92,222 - $204,640 a year', '$138,100 - $207,100 a year',\n",
       "       'From $75,000 a year', '$89 - $94 an hour',\n",
       "       '$120,000 - $160,000 a year', '$120,000 - $130,000 a year',\n",
       "       'From $95,000 a year', '$125,000 - $140,000 a year',\n",
       "       '$145,000 - $175,000 a year', 'Up to $174,900 a year',\n",
       "       '$85,000 - $100,000 a year', '$100,000 - $200,000 a year',\n",
       "       '$86,000 - $130,000 a year', '$100,000 - $140,000 a year',\n",
       "       '$83,200 - $190,100 a year', '$95,000 - $125,000 a year',\n",
       "       'Up to $150,000 a year', '$100,000 a year', '$50,000 - $70,000 a year',\n",
       "       '$140,000 - $150,000 a year', '$80 - $85 an hour',\n",
       "       '$75,504 - $94,761 a year', '$133,733 - $145,695 a year',\n",
       "       'Up to $136,032 a year', '$110,000 - $140,000 a year',\n",
       "       '$115,000 - $150,000 a year', '$78,000 - $103,000 a year',\n",
       "       'From $75 an hour', '$70,000 - $90,000 a year', '$114,700 a year',\n",
       "       '$60 - $65 an hour', '$127,100 - $203,000 a year',\n",
       "       '$100,000 - $130,000 a year', 'Part-time +1',\n",
       "       '$83,500 - $179,100 a year', '$125,000 - $150,000 a year',\n",
       "       '$91,271 - $218,826 a year', '$170,000 - $230,000 a year',\n",
       "       '$120,000 - $150,000 a year', '$85,000 - $92,000 a year',\n",
       "       'Up to $220,000 a year', '$45 an hour', '$160,000 - $180,000 a year',\n",
       "       '$103,690 - $159,286 a year', '$75 - $85 an hour',\n",
       "       '$115,000 - $170,000 a year', '$65,625 - $144,375 a year',\n",
       "       '$40,000 - $75,000 a year', '$145,000 - $217,400 a year'],\n",
       "      dtype='object')"
      ]
     },
     "execution_count": 20,
     "metadata": {},
     "output_type": "execute_result"
    }
   ],
   "source": [
    "df2[\"Salary\"].value_counts().index"
   ]
  },
  {
   "cell_type": "markdown",
   "id": "immediate-billy",
   "metadata": {},
   "source": [
    "## Changing hour to yearly salary in salary column"
   ]
  },
  {
   "cell_type": "code",
   "execution_count": 21,
   "id": "posted-amendment",
   "metadata": {},
   "outputs": [],
   "source": [
    "df3=df2\n",
    "df3['Salary']=df3['Salary'].map(str)\n",
    "df3[\"Salary\"].fillna(\"Data Not Available\", inplace = True)\n",
    "\n",
    "hour=df3[df3['Salary'].str.contains('hour')]\n",
    "year=df3[df3['Salary'].str.contains('year')]\n",
    "month=df3[df3['Salary'].str.contains('month')]\n",
    "\n",
    "hour.loc[hour['Salary'].str.contains('hour'), 'Salary'] = hour[\"Salary\"].str.replace(\" an hour\", \"\")\n",
    "hour.loc[hour['Salary'].str.contains('Up to '), 'Salary'] = hour[\"Salary\"].str.replace(\"Up to \", \"\")\n",
    "hour.loc[hour['Salary'].str.contains('From'), 'Salary'] = hour[\"Salary\"].str.replace(\"From \", \"\")\n",
    "hour.loc[hour['Salary'].str.contains('$'), 'Salary'] = hour[\"Salary\"].str.replace(\"$\", \"\")\n",
    "\n",
    "hour[['Salary', 'Ending Salary']] = hour['Salary'].str.split('-',n=1, expand=True)\n",
    "hour['Salary']=hour['Salary'].map(float)\n",
    "hour[\"Salary\"] =  hour[\"Salary\"]*2080\n",
    "\n",
    "hour.drop(\"Ending Salary\", inplace=True,axis=1)\n",
    "\n",
    "\n",
    "year.loc[year['Salary'].str.contains('year'), 'Salary'] = year[\"Salary\"].str.replace(\" a year\", \"\")\n",
    "year.loc[year['Salary'].str.contains('Up to '), 'Salary'] = year[\"Salary\"].str.replace(\"Up to \", \"\")\n",
    "year.loc[year['Salary'].str.contains('From'), 'Salary'] = year[\"Salary\"].str.replace(\"From \", \"\")\n",
    "year.loc[year['Salary'].str.contains('$'), 'Salary'] = year[\"Salary\"].str.replace(\"$\", \"\")\n",
    "\n",
    "year[['Salary', 'Ending Salary']] = year['Salary'].str.split(' - ',n=1, expand=True)\n",
    "year.loc[year['Salary'].str.contains(','), 'Salary'] = year[\"Salary\"].str.replace(\",\", \"\")\n",
    "\n",
    "year['Salary']=year['Salary'].map(float)\n",
    "year.drop(\"Ending Salary\", inplace=True,axis=1)\n",
    "\n",
    "month.loc[month['Salary'].str.contains('month'), 'Salary'] = month[\"Salary\"].str.replace(\" a month\", \"\")\n",
    "month.loc[month['Salary'].str.contains('$'), 'Salary'] = month[\"Salary\"].str.replace(\"$\", \"\")\n",
    "\n",
    "month[['Salary', 'Ending Salary']] = month['Salary'].str.split(' - ',n=1, expand=True)\n",
    "month.loc[month['Salary'].str.contains(','), 'Salary'] = month[\"Salary\"].str.replace(\",\", \"\")\n",
    "month['Salary']=month['Salary'].map(float)\n",
    "\n",
    "month[\"Salary\"] =  month[\"Salary\"]*12\n",
    "month.drop(\"Ending Salary\", inplace=True,axis=1)"
   ]
  },
  {
   "cell_type": "markdown",
   "id": "cognitive-titanium",
   "metadata": {},
   "source": [
    "## Appending hour, year and month dataframes to final dataframe"
   ]
  },
  {
   "cell_type": "code",
   "execution_count": 22,
   "id": "vanilla-transition",
   "metadata": {},
   "outputs": [],
   "source": [
    "final_df=year.append(month, ignore_index = True)\n",
    "final_df=final_df.append(hour, ignore_index = True)\n",
    "\n",
    "bins = [0, 50000, 60000, 70000, 80000, 90000, 100000,110000,120000,130000,140000,150000,160000,170000,180000,190000]\n",
    "final_df['Salary'] = pd.cut(final_df['Salary'], bins)\n",
    "\n",
    "DataNot=df3[df3['Salary'].str.contains('nan')]\n",
    "Fulltime=df3[df3['Salary'].str.contains('Full-time')]\n",
    "\n",
    "final_df=final_df.append(DataNot, ignore_index = True)\n",
    "final_df=final_df.append(Fulltime, ignore_index = True)\n",
    "\n",
    "final_df[\"Salary\"].fillna(\"Data Not Available\", inplace = True)\n",
    "final_df.to_csv('Final_data.csv', index=False)"
   ]
  },
  {
   "cell_type": "markdown",
   "id": "graduate-tournament",
   "metadata": {},
   "source": [
    "# Normalization of Refined Data Science csv"
   ]
  },
  {
   "cell_type": "code",
   "execution_count": 23,
   "id": "spoken-permission",
   "metadata": {},
   "outputs": [],
   "source": [
    "from IPython.display import display, HTML\n",
    "import pandas as pd\n",
    "import sqlite3\n",
    "from sqlite3 import Error\n",
    "from datetime import date, timedelta\n",
    "from random import randrange\n",
    "\n",
    "def create_connection(db_file, delete_db=False):\n",
    "    import os\n",
    "    if delete_db and os.path.exists(db_file):\n",
    "        os.remove(db_file)\n",
    "\n",
    "    conn = None\n",
    "    try:\n",
    "        conn = sqlite3.connect(db_file)\n",
    "        conn.execute(\"PRAGMA foreign_keys = 1\")\n",
    "    except Error as e:\n",
    "        print(e)\n",
    "\n",
    "    return conn\n",
    "\n",
    "\n",
    "def create_table(conn, create_table_sql):\n",
    "    try:\n",
    "        c = conn.cursor()\n",
    "        c.execute(create_table_sql)\n",
    "    except Error as e:\n",
    "        print(e)\n",
    "        \n",
    "def execute_sql_statement(sql_statement, conn):\n",
    "    cur = conn.cursor()\n",
    "    cur.execute(sql_statement)\n",
    "\n",
    "    rows = cur.fetchall()\n",
    "\n",
    "    return rows\n",
    "\n",
    "def get_random_date():\n",
    "    \n",
    "    start_date = date(2020, 1, 1)\n",
    "    end_date = date(2021, 12, 1)\n",
    "    \n",
    "    time_between_dates = end_date - start_date\n",
    "    days_between_dates = time_between_dates.days\n",
    "    random_number_of_days = randrange(days_between_dates)\n",
    "    random_date = start_date + timedelta(days=random_number_of_days)\n",
    "    return random_date"
   ]
  },
  {
   "cell_type": "code",
   "execution_count": 24,
   "id": "violent-sessions",
   "metadata": {},
   "outputs": [
    {
     "data": {
      "text/html": [
       "<div>\n",
       "<style scoped>\n",
       "    .dataframe tbody tr th:only-of-type {\n",
       "        vertical-align: middle;\n",
       "    }\n",
       "\n",
       "    .dataframe tbody tr th {\n",
       "        vertical-align: top;\n",
       "    }\n",
       "\n",
       "    .dataframe thead th {\n",
       "        text-align: right;\n",
       "    }\n",
       "</style>\n",
       "<table border=\"1\" class=\"dataframe\">\n",
       "  <thead>\n",
       "    <tr style=\"text-align: right;\">\n",
       "      <th></th>\n",
       "      <th>title</th>\n",
       "      <th>company</th>\n",
       "      <th>low_sal</th>\n",
       "      <th>high_sal</th>\n",
       "      <th>city</th>\n",
       "      <th>state</th>\n",
       "    </tr>\n",
       "  </thead>\n",
       "  <tbody>\n",
       "    <tr>\n",
       "      <th>0</th>\n",
       "      <td>Junior Data Scientist</td>\n",
       "      <td>SRI International</td>\n",
       "      <td>90000</td>\n",
       "      <td>90000</td>\n",
       "      <td>Arlington</td>\n",
       "      <td>Virginia</td>\n",
       "    </tr>\n",
       "    <tr>\n",
       "      <th>1</th>\n",
       "      <td>Junior Data Scientist</td>\n",
       "      <td>Aignyte</td>\n",
       "      <td>60000</td>\n",
       "      <td>60000</td>\n",
       "      <td>Remote</td>\n",
       "      <td>Remote</td>\n",
       "    </tr>\n",
       "    <tr>\n",
       "      <th>2</th>\n",
       "      <td>Data Scientist</td>\n",
       "      <td>Ovintiv</td>\n",
       "      <td>70000</td>\n",
       "      <td>70000</td>\n",
       "      <td>The Woodlands</td>\n",
       "      <td>Texas</td>\n",
       "    </tr>\n",
       "    <tr>\n",
       "      <th>3</th>\n",
       "      <td>Data Scientist</td>\n",
       "      <td>Inclusive Links</td>\n",
       "      <td>80000</td>\n",
       "      <td>80000</td>\n",
       "      <td>Remote</td>\n",
       "      <td>Remote</td>\n",
       "    </tr>\n",
       "    <tr>\n",
       "      <th>4</th>\n",
       "      <td>Data Scientist</td>\n",
       "      <td>Growers Edge Financial, Inc.</td>\n",
       "      <td>70000</td>\n",
       "      <td>70000</td>\n",
       "      <td>Johnston</td>\n",
       "      <td>Iowa</td>\n",
       "    </tr>\n",
       "    <tr>\n",
       "      <th>...</th>\n",
       "      <td>...</td>\n",
       "      <td>...</td>\n",
       "      <td>...</td>\n",
       "      <td>...</td>\n",
       "      <td>...</td>\n",
       "      <td>...</td>\n",
       "    </tr>\n",
       "    <tr>\n",
       "      <th>721</th>\n",
       "      <td>Senior Data Scientist</td>\n",
       "      <td>Q-State Biosciences Inc</td>\n",
       "      <td>80000</td>\n",
       "      <td>100000</td>\n",
       "      <td>Cambridge</td>\n",
       "      <td>Massachusetts</td>\n",
       "    </tr>\n",
       "    <tr>\n",
       "      <th>722</th>\n",
       "      <td>Data Scientist</td>\n",
       "      <td>VertexOne</td>\n",
       "      <td>80000</td>\n",
       "      <td>100000</td>\n",
       "      <td>Remote</td>\n",
       "      <td>Remote</td>\n",
       "    </tr>\n",
       "    <tr>\n",
       "      <th>723</th>\n",
       "      <td>Lead Data Scientist</td>\n",
       "      <td>C2FO Limited</td>\n",
       "      <td>80000</td>\n",
       "      <td>100000</td>\n",
       "      <td>Grandview</td>\n",
       "      <td>Missouri</td>\n",
       "    </tr>\n",
       "    <tr>\n",
       "      <th>724</th>\n",
       "      <td>Senior Data Scientist</td>\n",
       "      <td>ManTech International Corporation</td>\n",
       "      <td>80000</td>\n",
       "      <td>100000</td>\n",
       "      <td>Ashburn</td>\n",
       "      <td>Virginia</td>\n",
       "    </tr>\n",
       "    <tr>\n",
       "      <th>725</th>\n",
       "      <td>Data Scientist</td>\n",
       "      <td>Manpower Corporate</td>\n",
       "      <td>80000</td>\n",
       "      <td>100000</td>\n",
       "      <td>Milwaukee</td>\n",
       "      <td>Wisconsin</td>\n",
       "    </tr>\n",
       "  </tbody>\n",
       "</table>\n",
       "<p>726 rows × 6 columns</p>\n",
       "</div>"
      ],
      "text/plain": [
       "                     title                            company  low_sal  \\\n",
       "0    Junior Data Scientist                  SRI International    90000   \n",
       "1    Junior Data Scientist                            Aignyte    60000   \n",
       "2           Data Scientist                            Ovintiv    70000   \n",
       "3           Data Scientist                    Inclusive Links    80000   \n",
       "4           Data Scientist       Growers Edge Financial, Inc.    70000   \n",
       "..                     ...                                ...      ...   \n",
       "721  Senior Data Scientist            Q-State Biosciences Inc    80000   \n",
       "722         Data Scientist                          VertexOne    80000   \n",
       "723    Lead Data Scientist                       C2FO Limited    80000   \n",
       "724  Senior Data Scientist  ManTech International Corporation    80000   \n",
       "725         Data Scientist                 Manpower Corporate    80000   \n",
       "\n",
       "     high_sal           city          state  \n",
       "0       90000      Arlington       Virginia  \n",
       "1       60000         Remote         Remote  \n",
       "2       70000  The Woodlands          Texas  \n",
       "3       80000         Remote         Remote  \n",
       "4       70000       Johnston           Iowa  \n",
       "..        ...            ...            ...  \n",
       "721    100000      Cambridge  Massachusetts  \n",
       "722    100000         Remote         Remote  \n",
       "723    100000      Grandview       Missouri  \n",
       "724    100000        Ashburn       Virginia  \n",
       "725    100000      Milwaukee      Wisconsin  \n",
       "\n",
       "[726 rows x 6 columns]"
      ]
     },
     "metadata": {},
     "output_type": "display_data"
    }
   ],
   "source": [
    "city_and_state = set()\n",
    "companies = set()\n",
    "job_titles = set()\n",
    "rows = []\n",
    "with open('Final_data.csv', 'r', encoding='utf-8') as f:\n",
    "    # Skipping the header line\n",
    "    f.readline()\n",
    "    lines = f.readlines()\n",
    "    for line in lines:\n",
    "        splits = line.split('\"')\n",
    "        if len(splits) == 3:   \n",
    "            try:\n",
    "                job_title = splits[0].split(\",\")[0].strip()\n",
    "                company = splits[0].split(\",\")[1].strip()\n",
    "                lower_sal = int(splits[1].split(',')[0][1:])\n",
    "                higher_sal = int(splits[1].split(',')[0][1:])\n",
    "                city = splits[2].split(',')[3]\n",
    "                state = splits[2].split(',')[4].strip()\n",
    "            except Exception as e:\n",
    "                # Case when the second column is not a number\n",
    "                job_title = splits[0].split(\",\")[0].strip()\n",
    "                company = splits[1].strip()\n",
    "                lower_sal = 80000\n",
    "                higher_sal = 100000\n",
    "                city = splits[2].split(',')[-2].strip()\n",
    "                state = splits[2].split(',')[-1].strip()\n",
    "        elif len(splits) == 5:\n",
    "            job_title = splits[0].split(\",\")[0].strip()\n",
    "            company = splits[1].strip()\n",
    "            lower_sal = int(splits[3].split(',')[0][1:])\n",
    "            higher_sal = int(splits[3].split(',')[0][1:])\n",
    "            city = splits[4].split(',')[3]\n",
    "            state = splits[4].split(',')[4].strip()\n",
    "        elif len(splits) == 1:\n",
    "            job_title = splits[0].split(\",\")[0].strip()\n",
    "            company = splits[0].split(',')[1].strip()\n",
    "            lower_sal, higher_sal = 80000, 100000\n",
    "            city = splits[0].split(',')[5].strip()\n",
    "            state = splits[0].split(',')[6].strip()\n",
    "            \n",
    "\n",
    "        job_titles.add(job_title)\n",
    "        companies.add(company)\n",
    "        city_and_state.add((city, state))\n",
    "        rows.append((job_title, company, lower_sal, higher_sal, get_random_date(), city, state))\n",
    "\n",
    "conn = create_connection('_normalized-final.db', True)\n",
    "\n",
    "with conn:\n",
    "    cursor = conn.cursor()\n",
    "    \n",
    "    # Creating Company table\n",
    "    sql_statement = \"CREATE TABLE COMPANY(id integer primary key autoincrement default 1, company text not null);\"\n",
    "    create_table(conn, sql_statement)\n",
    "    for i in companies:\n",
    "        sql_statement = f\"INSERT INTO COMPANY(company) values(\\\"{i}\\\");\"\n",
    "        execute_sql_statement(sql_statement, conn)\n",
    "    \n",
    "    # Creating Geography table\n",
    "    sql_statement = \"CREATE TABLE GEO(id integer primary key autoincrement default 1, city text not null, state text not null);\"\n",
    "    create_table(conn, sql_statement)\n",
    "    cursor.executemany(\"INSERT INTO GEO(city, state) values(?, ?)\", list(city_and_state))\n",
    "    \n",
    "    # Creating Jobtitles table\n",
    "    sql_statement = \"CREATE TABLE JOBTITLES(id integer primary key autoincrement default 1, title text not null);\"\n",
    "    create_table(conn, sql_statement)\n",
    "    for i in job_titles:\n",
    "        sql_statement = f\"INSERT INTO JOBTITLES(title) values(\\\"{i}\\\");\"\n",
    "        execute_sql_statement(sql_statement, conn)\n",
    "        \n",
    "    # Creating Job table\n",
    "    sql_statement = \"CREATE TABLE JOB(id integer primary key autoincrement default 1, title integer not null, company integer not null, low_sal integer not null, high_sal integer not null, posting_date text not null, geo integer not null, foreign key(title) references jobtitles(id), foreign key(company) references COMPANY(id), foreign key(geo) references GEO(id));\"\n",
    "    create_table(conn, sql_statement)\n",
    "    for i in rows:\n",
    "        sql_statement = f\"SELECT ID FROM JOBTITLES where title = '{i[0]}';\"\n",
    "        title_id = execute_sql_statement(sql_statement, conn)[0][0]\n",
    "        sql_statement = f\"SELECT ID FROM COMPANY where company = \\\"{i[1]}\\\";\"\n",
    "        company_id = execute_sql_statement(sql_statement, conn)[0][0]\n",
    "        sql_statement = f\"SELECT ID FROM GEO where city = \\\"{i[5]}\\\";\"\n",
    "        geo_id = execute_sql_statement(sql_statement, conn)[0][0]\n",
    "        sql_statement = f\"INSERT INTO JOB(title, company, low_sal, high_sal, posting_date, geo) values({title_id}, {company_id}, {i[2]}, {i[3]}, {str(i[4])}, {geo_id});\"\n",
    "        execute_sql_statement(sql_statement, conn)\n",
    "    \n",
    "    # Getting the final table using JOINS\n",
    "    sql_statement = \"CREATE TABLE JOBMAIN AS SELECT JOBTITLES.title, COMPANY.company, JOB.low_sal, JOB.high_sal, GEO.city, GEO.state from JOB INNER JOIN JOBTITLES on JOB.title = JOBTITLES.id INNER JOIN COMPANY on JOB.company = COMPANY.id INNER JOIN GEO on JOB.geo = GEO.id;\"\n",
    "    create_table(conn, sql_statement)\n",
    "    data = pd.read_sql_query('SELECT * FROM JOBMAIN', conn)\n",
    "    display(data)\n"
   ]
  },
  {
   "cell_type": "code",
   "execution_count": 25,
   "id": "operational-incidence",
   "metadata": {},
   "outputs": [
    {
     "data": {
      "text/plain": [
       "Text(0.5, 1.0, 'Top 5 Data Science job titles')"
      ]
     },
     "execution_count": 25,
     "metadata": {},
     "output_type": "execute_result"
    },
    {
     "data": {
      "image/png": "[encoded data removed]",
      "text/plain": [
       "<Figure size 1000x500 with 1 Axes>"
      ]
     },
     "metadata": {
      "needs_background": "light"
     },
     "output_type": "display_data"
    }
   ],
   "source": [
    "## Creating a  Bar Plot  ##\n",
    "top_5_Job_titles=data[\"title\"].value_counts()\n",
    "plt.figure(figsize=(10,5),dpi=100)\n",
    "sns.barplot(y=top_5_Job_titles.values[0:5],x=top_5_Job_titles.index[0:5], palette = \"magma\",edgecolor='black')\n",
    "plt.ylabel(\"Number of Positions\", fontsize=10)\n",
    "plt.yticks(fontsize=10)\n",
    "plt.xticks(fontsize=10,rotation=0)\n",
    "plt.xlabel(\"Job Titles \", fontsize=10)\n",
    "plt.title(\"Top 5 Data Science job titles\",fontsize=15)"
   ]
  },
  {
   "cell_type": "markdown",
   "id": "failing-ozone",
   "metadata": {},
   "source": [
    "# Data Visualization "
   ]
  },
  {
   "cell_type": "code",
   "execution_count": 26,
   "id": "valued-thread",
   "metadata": {},
   "outputs": [
    {
     "data": {
      "text/plain": [
       "Text(0.5, 1.0, ' Highest Salary percentage for Data Scientists')"
      ]
     },
     "execution_count": 26,
     "metadata": {},
     "output_type": "execute_result"
    },
    {
     "data": {
      "image/png": "[encoded data removed]",
      "text/plain": [
       "<Figure size 504x504 with 1 Axes>"
      ]
     },
     "metadata": {},
     "output_type": "display_data"
    }
   ],
   "source": [
    "data1=data[data[\"high_sal\"]!=0]\n",
    "DS_positions=data1[\"high_sal\"].value_counts()\n",
    "labels= DS_positions.index[1:8]  # x ticks\n",
    "sizes= DS_positions.values[1:8]\n",
    "## Create Pie chart Plot ##\n",
    "plt.figure(figsize = (7,7))\n",
    "explode = [0,0,0,0,0,0,0]\n",
    "colors = ['#EC6B56','#FFC154','#47B39C','#BDE4A8','#3DA5D9','#38686A','#637074']\n",
    "plt.pie(sizes, explode=explode, labels=labels, autopct='%1.1f%%',shadow=True,textprops={'fontsize': 14}, startangle=90, colors=colors)\n",
    "plt.title(' Highest Salary percentage for Data Scientists',color = 'Black',fontsize = 20)"
   ]
  },
  {
   "cell_type": "code",
   "execution_count": 27,
   "id": "comic-latest",
   "metadata": {},
   "outputs": [
    {
     "data": {
      "text/plain": [
       "Text(0.5, 1.0, 'Top 5 Working locations for Data Science positions.')"
      ]
     },
     "execution_count": 27,
     "metadata": {},
     "output_type": "execute_result"
    },
    {
     "data": {
      "image/png": "[encoded data removed]",
      "text/plain": [
       "<Figure size 1000x500 with 1 Axes>"
      ]
     },
     "metadata": {
      "needs_background": "light"
     },
     "output_type": "display_data"
    }
   ],
   "source": [
    "## Creating a  Bar Plot  ##\n",
    "top_5_working=data[\"state\"].value_counts()\n",
    "plt.figure(figsize=(10,5),dpi=100)\n",
    "sns.barplot(y=top_5_working.values[0:6],x=top_5_working.index[0:6], palette = \"magma\",edgecolor='black')\n",
    "plt.ylabel(\"Number of Positions\", fontsize=10)\n",
    "plt.yticks(fontsize=10)\n",
    "plt.xlabel(\"Work Locations\", fontsize=10)\n",
    "plt.title('Top 5 Working locations for Data Science positions.')"
   ]
  },
  {
   "cell_type": "code",
   "execution_count": 36,
   "id": "fleet-protocol",
   "metadata": {},
   "outputs": [
    {
     "data": {
      "text/plain": [
       "[Text(0.5, 0, 'Lowest salary'),\n",
       " Text(0, 0.5, 'Number of positions'),\n",
       " Text(0.5, 1.0, ' Comparison of Salary ranges between California and New York States')]"
      ]
     },
     "execution_count": 36,
     "metadata": {},
     "output_type": "execute_result"
    },
    {
     "data": {
      "image/png": "[encoded data removed]",
      "text/plain": [
       "<Figure size 720x360 with 1 Axes>"
      ]
     },
     "metadata": {
      "needs_background": "light"
     },
     "output_type": "display_data"
    }
   ],
   "source": [
    "california_df=data[data[\"state\"]==\"California\"]\n",
    "ny_df=data[data[\"state\"]==\"New York\"]\n",
    "Cali_top_5_salary=california_df[\"low_sal\"].value_counts()\n",
    "NY_top_5_salary=ny_df[\"low_sal\"].value_counts()\n",
    "\n",
    "f,ax = plt.subplots(figsize = (10,5))\n",
    "sns.barplot(y=Cali_top_5_salary.values[0:8],x=Cali_top_5_salary.index[0:8],color='red',alpha = 1,label='California State' )\n",
    "sns.barplot(y=NY_top_5_salary.values[0:8],x=NY_top_5_salary.index[0:8],color='blue',alpha = 0.8,label='New York State')\n",
    "\n",
    "ax.legend(loc='upper right',frameon = True)  \n",
    "ax.set(xlabel='Lowest salary', ylabel='Number of positions',title =  \" Comparison of Salary ranges between California and New York States\")"
   ]
  },
  {
   "cell_type": "code",
   "execution_count": 29,
   "id": "loved-experiment",
   "metadata": {},
   "outputs": [
    {
     "data": {
      "text/plain": [
       "Text(0.5, 1.0, 'Top 5 Companies looking for Data Science positions.')"
      ]
     },
     "execution_count": 29,
     "metadata": {},
     "output_type": "execute_result"
    },
    {
     "data": {
      "image/png": "[encoded data removed]",
      "text/plain": [
       "<Figure size 1000x500 with 1 Axes>"
      ]
     },
     "metadata": {
      "needs_background": "light"
     },
     "output_type": "display_data"
    }
   ],
   "source": [
    "## Creating a  Bar Plot  ##\n",
    "top_5_companies=data[\"company\"].value_counts()\n",
    "plt.figure(figsize=(10,5),dpi=100)\n",
    "sns.barplot(y=top_5_companies.values[0:6],x=top_5_companies.index[0:6], palette = \"winter_r\",edgecolor='black')\n",
    "plt.ylabel(\"Number of Positions\", fontsize=10)\n",
    "plt.yticks(fontsize=10)\n",
    "plt.xlabel(\"Company\", fontsize=10)\n",
    "plt.title('Top 5 Companies looking for Data Science positions.')"
   ]
  },
  {
   "cell_type": "code",
   "execution_count": 37,
   "id": "otherwise-response",
   "metadata": {},
   "outputs": [
    {
     "data": {
      "image/png": "[encoded data removed]",
      "text/plain": [
       "<Figure size 432x288 with 1 Axes>"
      ]
     },
     "metadata": {
      "needs_background": "light"
     },
     "output_type": "display_data"
    }
   ],
   "source": [
    "from subprocess import check_output\n",
    "from wordcloud import WordCloud, STOPWORDS\n",
    "\n",
    "stopwords = set(STOPWORDS)\n",
    "wordcloud = WordCloud(\n",
    "                          background_color='white',\n",
    "                          stopwords=stopwords,\n",
    "                          max_words=500,\n",
    "                          max_font_size=40, \n",
    "                          random_state=42\n",
    "                         ).generate(str(df['Summary']))\n",
    "\n",
    "fig = plt.figure()\n",
    "plt.imshow(wordcloud)\n",
    "plt.axis('off')\n",
    "plt.show()"
   ]
  },
  {
   "cell_type": "code",
   "execution_count": null,
   "id": "intellectual-chrome",
   "metadata": {},
   "outputs": [],
   "source": []
  }
 ],
 "metadata": {
  "kernelspec": {
   "display_name": "Python 3",
   "language": "python",
   "name": "python3"
  },
  "language_info": {
   "codemirror_mode": {
    "name": "ipython",
    "version": 3
   },
   "file_extension": ".py",
   "mimetype": "text/x-python",
   "name": "python",
   "nbconvert_exporter": "python",
   "pygments_lexer": "ipython3",
   "version": "3.8.5"
  }
 },
 "nbformat": 4,
 "nbformat_minor": 5
}
