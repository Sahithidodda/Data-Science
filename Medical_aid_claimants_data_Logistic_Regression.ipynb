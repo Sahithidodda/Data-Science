{
  "cells": [
    {
      "cell_type": "markdown",
      "metadata": {
        "id": "view-in-github",
        "colab_type": "text"
      },
      "source": [
        "<a href=\"https://colab.research.google.com/github/Sahithidodda/Data-Science/blob/main/Medical_aid_claimants_data_Logistic_Regression.ipynb\" target=\"_parent\"><img src=\"https://colab.research.google.com/assets/colab-badge.svg\" alt=\"Open In Colab\"/></a>"
      ]
    },
    {
      "cell_type": "code",
      "execution_count": 1,
      "metadata": {
        "id": "HQ_jdrsVsbag"
      },
      "outputs": [],
      "source": [
        "import pandas as pd\n",
        "from sklearn.linear_model import LogisticRegression"
      ]
    },
    {
      "cell_type": "code",
      "execution_count": 3,
      "metadata": {
        "colab": {
          "base_uri": "https://localhost:8080/",
          "height": 206
        },
        "id": "ov0hh_N9sbaj",
        "outputId": "4bc37651-b0cf-4aa9-b3ba-7c3bcc9c6f14"
      },
      "outputs": [
        {
          "output_type": "execute_result",
          "data": {
            "text/plain": [
              "   CASENUM  ATTORNEY  CLMSEX  CLMINSUR  SEATBELT  CLMAGE    LOSS\n",
              "0        5         0     0.0       1.0       0.0    50.0  34.940\n",
              "1        3         1     1.0       0.0       0.0    18.0   0.891\n",
              "2       66         1     0.0       1.0       0.0     5.0   0.330\n",
              "3       70         0     0.0       1.0       1.0    31.0   0.037\n",
              "4       96         1     0.0       1.0       0.0    30.0   0.038"
            ],
            "text/html": [
              "\n",
              "  <div id=\"df-2a4c20d3-c899-4878-8083-a557ce945e87\">\n",
              "    <div class=\"colab-df-container\">\n",
              "      <div>\n",
              "<style scoped>\n",
              "    .dataframe tbody tr th:only-of-type {\n",
              "        vertical-align: middle;\n",
              "    }\n",
              "\n",
              "    .dataframe tbody tr th {\n",
              "        vertical-align: top;\n",
              "    }\n",
              "\n",
              "    .dataframe thead th {\n",
              "        text-align: right;\n",
              "    }\n",
              "</style>\n",
              "<table border=\"1\" class=\"dataframe\">\n",
              "  <thead>\n",
              "    <tr style=\"text-align: right;\">\n",
              "      <th></th>\n",
              "      <th>CASENUM</th>\n",
              "      <th>ATTORNEY</th>\n",
              "      <th>CLMSEX</th>\n",
              "      <th>CLMINSUR</th>\n",
              "      <th>SEATBELT</th>\n",
              "      <th>CLMAGE</th>\n",
              "      <th>LOSS</th>\n",
              "    </tr>\n",
              "  </thead>\n",
              "  <tbody>\n",
              "    <tr>\n",
              "      <th>0</th>\n",
              "      <td>5</td>\n",
              "      <td>0</td>\n",
              "      <td>0.0</td>\n",
              "      <td>1.0</td>\n",
              "      <td>0.0</td>\n",
              "      <td>50.0</td>\n",
              "      <td>34.940</td>\n",
              "    </tr>\n",
              "    <tr>\n",
              "      <th>1</th>\n",
              "      <td>3</td>\n",
              "      <td>1</td>\n",
              "      <td>1.0</td>\n",
              "      <td>0.0</td>\n",
              "      <td>0.0</td>\n",
              "      <td>18.0</td>\n",
              "      <td>0.891</td>\n",
              "    </tr>\n",
              "    <tr>\n",
              "      <th>2</th>\n",
              "      <td>66</td>\n",
              "      <td>1</td>\n",
              "      <td>0.0</td>\n",
              "      <td>1.0</td>\n",
              "      <td>0.0</td>\n",
              "      <td>5.0</td>\n",
              "      <td>0.330</td>\n",
              "    </tr>\n",
              "    <tr>\n",
              "      <th>3</th>\n",
              "      <td>70</td>\n",
              "      <td>0</td>\n",
              "      <td>0.0</td>\n",
              "      <td>1.0</td>\n",
              "      <td>1.0</td>\n",
              "      <td>31.0</td>\n",
              "      <td>0.037</td>\n",
              "    </tr>\n",
              "    <tr>\n",
              "      <th>4</th>\n",
              "      <td>96</td>\n",
              "      <td>1</td>\n",
              "      <td>0.0</td>\n",
              "      <td>1.0</td>\n",
              "      <td>0.0</td>\n",
              "      <td>30.0</td>\n",
              "      <td>0.038</td>\n",
              "    </tr>\n",
              "  </tbody>\n",
              "</table>\n",
              "</div>\n",
              "      <button class=\"colab-df-convert\" onclick=\"convertToInteractive('df-2a4c20d3-c899-4878-8083-a557ce945e87')\"\n",
              "              title=\"Convert this dataframe to an interactive table.\"\n",
              "              style=\"display:none;\">\n",
              "        \n",
              "  <svg xmlns=\"http://www.w3.org/2000/svg\" height=\"24px\"viewBox=\"0 0 24 24\"\n",
              "       width=\"24px\">\n",
              "    <path d=\"M0 0h24v24H0V0z\" fill=\"none\"/>\n",
              "    <path d=\"M18.56 5.44l.94 2.06.94-2.06 2.06-.94-2.06-.94-.94-2.06-.94 2.06-2.06.94zm-11 1L8.5 8.5l.94-2.06 2.06-.94-2.06-.94L8.5 2.5l-.94 2.06-2.06.94zm10 10l.94 2.06.94-2.06 2.06-.94-2.06-.94-.94-2.06-.94 2.06-2.06.94z\"/><path d=\"M17.41 7.96l-1.37-1.37c-.4-.4-.92-.59-1.43-.59-.52 0-1.04.2-1.43.59L10.3 9.45l-7.72 7.72c-.78.78-.78 2.05 0 2.83L4 21.41c.39.39.9.59 1.41.59.51 0 1.02-.2 1.41-.59l7.78-7.78 2.81-2.81c.8-.78.8-2.07 0-2.86zM5.41 20L4 18.59l7.72-7.72 1.47 1.35L5.41 20z\"/>\n",
              "  </svg>\n",
              "      </button>\n",
              "      \n",
              "  <style>\n",
              "    .colab-df-container {\n",
              "      display:flex;\n",
              "      flex-wrap:wrap;\n",
              "      gap: 12px;\n",
              "    }\n",
              "\n",
              "    .colab-df-convert {\n",
              "      background-color: #E8F0FE;\n",
              "      border: none;\n",
              "      border-radius: 50%;\n",
              "      cursor: pointer;\n",
              "      display: none;\n",
              "      fill: #1967D2;\n",
              "      height: 32px;\n",
              "      padding: 0 0 0 0;\n",
              "      width: 32px;\n",
              "    }\n",
              "\n",
              "    .colab-df-convert:hover {\n",
              "      background-color: #E2EBFA;\n",
              "      box-shadow: 0px 1px 2px rgba(60, 64, 67, 0.3), 0px 1px 3px 1px rgba(60, 64, 67, 0.15);\n",
              "      fill: #174EA6;\n",
              "    }\n",
              "\n",
              "    [theme=dark] .colab-df-convert {\n",
              "      background-color: #3B4455;\n",
              "      fill: #D2E3FC;\n",
              "    }\n",
              "\n",
              "    [theme=dark] .colab-df-convert:hover {\n",
              "      background-color: #434B5C;\n",
              "      box-shadow: 0px 1px 3px 1px rgba(0, 0, 0, 0.15);\n",
              "      filter: drop-shadow(0px 1px 2px rgba(0, 0, 0, 0.3));\n",
              "      fill: #FFFFFF;\n",
              "    }\n",
              "  </style>\n",
              "\n",
              "      <script>\n",
              "        const buttonEl =\n",
              "          document.querySelector('#df-2a4c20d3-c899-4878-8083-a557ce945e87 button.colab-df-convert');\n",
              "        buttonEl.style.display =\n",
              "          google.colab.kernel.accessAllowed ? 'block' : 'none';\n",
              "\n",
              "        async function convertToInteractive(key) {\n",
              "          const element = document.querySelector('#df-2a4c20d3-c899-4878-8083-a557ce945e87');\n",
              "          const dataTable =\n",
              "            await google.colab.kernel.invokeFunction('convertToInteractive',\n",
              "                                                     [key], {});\n",
              "          if (!dataTable) return;\n",
              "\n",
              "          const docLinkHtml = 'Like what you see? Visit the ' +\n",
              "            '<a target=\"_blank\" href=https://colab.research.google.com/notebooks/data_table.ipynb>data table notebook</a>'\n",
              "            + ' to learn more about interactive tables.';\n",
              "          element.innerHTML = '';\n",
              "          dataTable['output_type'] = 'display_data';\n",
              "          await google.colab.output.renderOutput(dataTable, element);\n",
              "          const docLink = document.createElement('div');\n",
              "          docLink.innerHTML = docLinkHtml;\n",
              "          element.appendChild(docLink);\n",
              "        }\n",
              "      </script>\n",
              "    </div>\n",
              "  </div>\n",
              "  "
            ]
          },
          "metadata": {},
          "execution_count": 3
        }
      ],
      "source": [
        "#Load the data set\n",
        "claimants = pd.read_csv(\"claimants.csv\")\n",
        "claimants.head()"
      ]
    },
    {
      "cell_type": "code",
      "execution_count": 4,
      "metadata": {
        "colab": {
          "base_uri": "https://localhost:8080/"
        },
        "id": "p1XvhpICsbal",
        "outputId": "dd82d8f3-c829-4c51-c186-0f11e2c3641e"
      },
      "outputs": [
        {
          "output_type": "stream",
          "name": "stdout",
          "text": [
            "<class 'pandas.core.frame.DataFrame'>\n",
            "RangeIndex: 1340 entries, 0 to 1339\n",
            "Data columns (total 7 columns):\n",
            " #   Column    Non-Null Count  Dtype  \n",
            "---  ------    --------------  -----  \n",
            " 0   CASENUM   1340 non-null   int64  \n",
            " 1   ATTORNEY  1340 non-null   int64  \n",
            " 2   CLMSEX    1328 non-null   float64\n",
            " 3   CLMINSUR  1299 non-null   float64\n",
            " 4   SEATBELT  1292 non-null   float64\n",
            " 5   CLMAGE    1151 non-null   float64\n",
            " 6   LOSS      1340 non-null   float64\n",
            "dtypes: float64(5), int64(2)\n",
            "memory usage: 73.4 KB\n"
          ]
        }
      ],
      "source": [
        "claimants.info()"
      ]
    },
    {
      "cell_type": "code",
      "execution_count": 5,
      "metadata": {
        "id": "QSSOtbEtsbam"
      },
      "outputs": [],
      "source": [
        "# Drop the \"Case number\" column as it is not required\n",
        "claimants.drop([\"CASENUM\"],inplace=True,axis = 1)"
      ]
    },
    {
      "cell_type": "code",
      "execution_count": 6,
      "metadata": {
        "colab": {
          "base_uri": "https://localhost:8080/",
          "height": 423
        },
        "id": "1uze2XHusbam",
        "outputId": "0bb33e9d-917c-48d9-8529-2565515f45c8"
      },
      "outputs": [
        {
          "output_type": "execute_result",
          "data": {
            "text/plain": [
              "      ATTORNEY  CLMSEX  CLMINSUR  SEATBELT  CLMAGE    LOSS\n",
              "0            0     0.0       1.0       0.0    50.0  34.940\n",
              "1            1     1.0       0.0       0.0    18.0   0.891\n",
              "2            1     0.0       1.0       0.0     5.0   0.330\n",
              "3            0     0.0       1.0       1.0    31.0   0.037\n",
              "4            1     0.0       1.0       0.0    30.0   0.038\n",
              "...        ...     ...       ...       ...     ...     ...\n",
              "1335         1     0.0       1.0       0.0     NaN   0.576\n",
              "1336         0     1.0       1.0       0.0    46.0   3.705\n",
              "1337         1     1.0       1.0       0.0    39.0   0.099\n",
              "1338         0     1.0       0.0       0.0     8.0   3.177\n",
              "1339         1     1.0       1.0       0.0    30.0   0.688\n",
              "\n",
              "[1340 rows x 6 columns]"
            ],
            "text/html": [
              "\n",
              "  <div id=\"df-c2c412e7-22c3-4ad3-895b-86c84a9cdc15\">\n",
              "    <div class=\"colab-df-container\">\n",
              "      <div>\n",
              "<style scoped>\n",
              "    .dataframe tbody tr th:only-of-type {\n",
              "        vertical-align: middle;\n",
              "    }\n",
              "\n",
              "    .dataframe tbody tr th {\n",
              "        vertical-align: top;\n",
              "    }\n",
              "\n",
              "    .dataframe thead th {\n",
              "        text-align: right;\n",
              "    }\n",
              "</style>\n",
              "<table border=\"1\" class=\"dataframe\">\n",
              "  <thead>\n",
              "    <tr style=\"text-align: right;\">\n",
              "      <th></th>\n",
              "      <th>ATTORNEY</th>\n",
              "      <th>CLMSEX</th>\n",
              "      <th>CLMINSUR</th>\n",
              "      <th>SEATBELT</th>\n",
              "      <th>CLMAGE</th>\n",
              "      <th>LOSS</th>\n",
              "    </tr>\n",
              "  </thead>\n",
              "  <tbody>\n",
              "    <tr>\n",
              "      <th>0</th>\n",
              "      <td>0</td>\n",
              "      <td>0.0</td>\n",
              "      <td>1.0</td>\n",
              "      <td>0.0</td>\n",
              "      <td>50.0</td>\n",
              "      <td>34.940</td>\n",
              "    </tr>\n",
              "    <tr>\n",
              "      <th>1</th>\n",
              "      <td>1</td>\n",
              "      <td>1.0</td>\n",
              "      <td>0.0</td>\n",
              "      <td>0.0</td>\n",
              "      <td>18.0</td>\n",
              "      <td>0.891</td>\n",
              "    </tr>\n",
              "    <tr>\n",
              "      <th>2</th>\n",
              "      <td>1</td>\n",
              "      <td>0.0</td>\n",
              "      <td>1.0</td>\n",
              "      <td>0.0</td>\n",
              "      <td>5.0</td>\n",
              "      <td>0.330</td>\n",
              "    </tr>\n",
              "    <tr>\n",
              "      <th>3</th>\n",
              "      <td>0</td>\n",
              "      <td>0.0</td>\n",
              "      <td>1.0</td>\n",
              "      <td>1.0</td>\n",
              "      <td>31.0</td>\n",
              "      <td>0.037</td>\n",
              "    </tr>\n",
              "    <tr>\n",
              "      <th>4</th>\n",
              "      <td>1</td>\n",
              "      <td>0.0</td>\n",
              "      <td>1.0</td>\n",
              "      <td>0.0</td>\n",
              "      <td>30.0</td>\n",
              "      <td>0.038</td>\n",
              "    </tr>\n",
              "    <tr>\n",
              "      <th>...</th>\n",
              "      <td>...</td>\n",
              "      <td>...</td>\n",
              "      <td>...</td>\n",
              "      <td>...</td>\n",
              "      <td>...</td>\n",
              "      <td>...</td>\n",
              "    </tr>\n",
              "    <tr>\n",
              "      <th>1335</th>\n",
              "      <td>1</td>\n",
              "      <td>0.0</td>\n",
              "      <td>1.0</td>\n",
              "      <td>0.0</td>\n",
              "      <td>NaN</td>\n",
              "      <td>0.576</td>\n",
              "    </tr>\n",
              "    <tr>\n",
              "      <th>1336</th>\n",
              "      <td>0</td>\n",
              "      <td>1.0</td>\n",
              "      <td>1.0</td>\n",
              "      <td>0.0</td>\n",
              "      <td>46.0</td>\n",
              "      <td>3.705</td>\n",
              "    </tr>\n",
              "    <tr>\n",
              "      <th>1337</th>\n",
              "      <td>1</td>\n",
              "      <td>1.0</td>\n",
              "      <td>1.0</td>\n",
              "      <td>0.0</td>\n",
              "      <td>39.0</td>\n",
              "      <td>0.099</td>\n",
              "    </tr>\n",
              "    <tr>\n",
              "      <th>1338</th>\n",
              "      <td>0</td>\n",
              "      <td>1.0</td>\n",
              "      <td>0.0</td>\n",
              "      <td>0.0</td>\n",
              "      <td>8.0</td>\n",
              "      <td>3.177</td>\n",
              "    </tr>\n",
              "    <tr>\n",
              "      <th>1339</th>\n",
              "      <td>1</td>\n",
              "      <td>1.0</td>\n",
              "      <td>1.0</td>\n",
              "      <td>0.0</td>\n",
              "      <td>30.0</td>\n",
              "      <td>0.688</td>\n",
              "    </tr>\n",
              "  </tbody>\n",
              "</table>\n",
              "<p>1340 rows × 6 columns</p>\n",
              "</div>\n",
              "      <button class=\"colab-df-convert\" onclick=\"convertToInteractive('df-c2c412e7-22c3-4ad3-895b-86c84a9cdc15')\"\n",
              "              title=\"Convert this dataframe to an interactive table.\"\n",
              "              style=\"display:none;\">\n",
              "        \n",
              "  <svg xmlns=\"http://www.w3.org/2000/svg\" height=\"24px\"viewBox=\"0 0 24 24\"\n",
              "       width=\"24px\">\n",
              "    <path d=\"M0 0h24v24H0V0z\" fill=\"none\"/>\n",
              "    <path d=\"M18.56 5.44l.94 2.06.94-2.06 2.06-.94-2.06-.94-.94-2.06-.94 2.06-2.06.94zm-11 1L8.5 8.5l.94-2.06 2.06-.94-2.06-.94L8.5 2.5l-.94 2.06-2.06.94zm10 10l.94 2.06.94-2.06 2.06-.94-2.06-.94-.94-2.06-.94 2.06-2.06.94z\"/><path d=\"M17.41 7.96l-1.37-1.37c-.4-.4-.92-.59-1.43-.59-.52 0-1.04.2-1.43.59L10.3 9.45l-7.72 7.72c-.78.78-.78 2.05 0 2.83L4 21.41c.39.39.9.59 1.41.59.51 0 1.02-.2 1.41-.59l7.78-7.78 2.81-2.81c.8-.78.8-2.07 0-2.86zM5.41 20L4 18.59l7.72-7.72 1.47 1.35L5.41 20z\"/>\n",
              "  </svg>\n",
              "      </button>\n",
              "      \n",
              "  <style>\n",
              "    .colab-df-container {\n",
              "      display:flex;\n",
              "      flex-wrap:wrap;\n",
              "      gap: 12px;\n",
              "    }\n",
              "\n",
              "    .colab-df-convert {\n",
              "      background-color: #E8F0FE;\n",
              "      border: none;\n",
              "      border-radius: 50%;\n",
              "      cursor: pointer;\n",
              "      display: none;\n",
              "      fill: #1967D2;\n",
              "      height: 32px;\n",
              "      padding: 0 0 0 0;\n",
              "      width: 32px;\n",
              "    }\n",
              "\n",
              "    .colab-df-convert:hover {\n",
              "      background-color: #E2EBFA;\n",
              "      box-shadow: 0px 1px 2px rgba(60, 64, 67, 0.3), 0px 1px 3px 1px rgba(60, 64, 67, 0.15);\n",
              "      fill: #174EA6;\n",
              "    }\n",
              "\n",
              "    [theme=dark] .colab-df-convert {\n",
              "      background-color: #3B4455;\n",
              "      fill: #D2E3FC;\n",
              "    }\n",
              "\n",
              "    [theme=dark] .colab-df-convert:hover {\n",
              "      background-color: #434B5C;\n",
              "      box-shadow: 0px 1px 3px 1px rgba(0, 0, 0, 0.15);\n",
              "      filter: drop-shadow(0px 1px 2px rgba(0, 0, 0, 0.3));\n",
              "      fill: #FFFFFF;\n",
              "    }\n",
              "  </style>\n",
              "\n",
              "      <script>\n",
              "        const buttonEl =\n",
              "          document.querySelector('#df-c2c412e7-22c3-4ad3-895b-86c84a9cdc15 button.colab-df-convert');\n",
              "        buttonEl.style.display =\n",
              "          google.colab.kernel.accessAllowed ? 'block' : 'none';\n",
              "\n",
              "        async function convertToInteractive(key) {\n",
              "          const element = document.querySelector('#df-c2c412e7-22c3-4ad3-895b-86c84a9cdc15');\n",
              "          const dataTable =\n",
              "            await google.colab.kernel.invokeFunction('convertToInteractive',\n",
              "                                                     [key], {});\n",
              "          if (!dataTable) return;\n",
              "\n",
              "          const docLinkHtml = 'Like what you see? Visit the ' +\n",
              "            '<a target=\"_blank\" href=https://colab.research.google.com/notebooks/data_table.ipynb>data table notebook</a>'\n",
              "            + ' to learn more about interactive tables.';\n",
              "          element.innerHTML = '';\n",
              "          dataTable['output_type'] = 'display_data';\n",
              "          await google.colab.output.renderOutput(dataTable, element);\n",
              "          const docLink = document.createElement('div');\n",
              "          docLink.innerHTML = docLinkHtml;\n",
              "          element.appendChild(docLink);\n",
              "        }\n",
              "      </script>\n",
              "    </div>\n",
              "  </div>\n",
              "  "
            ]
          },
          "metadata": {},
          "execution_count": 6
        }
      ],
      "source": [
        "claimants"
      ]
    },
    {
      "cell_type": "code",
      "execution_count": null,
      "metadata": {
        "id": "6KZNrrFPsban"
      },
      "outputs": [],
      "source": [
        "#Without using the 'inplace=True', we will have to create a copy of the dataset while dropping the mentioned column\n",
        "#claimants1=claimants.drop([\"CASENUM\"],axis = 1)\n",
        "#claimants1"
      ]
    },
    {
      "cell_type": "code",
      "execution_count": null,
      "metadata": {
        "id": "zTv0OmLQsban",
        "outputId": "bdd16c3e-51d0-4a11-ffd3-358314e9be3c"
      },
      "outputs": [
        {
          "data": {
            "text/plain": [
              "(1340, 6)"
            ]
          },
          "execution_count": 7,
          "metadata": {},
          "output_type": "execute_result"
        }
      ],
      "source": [
        "#Shape of the data set\n",
        "claimants.shape"
      ]
    },
    {
      "cell_type": "code",
      "execution_count": null,
      "metadata": {
        "id": "G48zy-VDsbao",
        "outputId": "37be1b38-d6c9-4cec-986b-0de2dee739a9"
      },
      "outputs": [
        {
          "data": {
            "text/plain": [
              "ATTORNEY      0\n",
              "CLMSEX       12\n",
              "CLMINSUR     41\n",
              "SEATBELT     48\n",
              "CLMAGE      189\n",
              "LOSS          0\n",
              "dtype: int64"
            ]
          },
          "execution_count": 8,
          "metadata": {},
          "output_type": "execute_result"
        }
      ],
      "source": [
        "#To check number of missing values?\n",
        "claimants.isnull().sum()"
      ]
    },
    {
      "cell_type": "code",
      "execution_count": 7,
      "metadata": {
        "colab": {
          "base_uri": "https://localhost:8080/"
        },
        "id": "WGFggQ48sbao",
        "outputId": "9735d947-c737-41ec-91dd-617a36087764"
      },
      "outputs": [
        {
          "output_type": "stream",
          "name": "stdout",
          "text": [
            "Percentage of data missing in the Age variable:  14.1044776119403\n",
            "Percentage of data missing in the Gender variable:  0.8955223880597015\n",
            "Percentage of data missing in the SeatBelt variable:  3.582089552238806\n",
            "Percentage of data missing in the Driver Insurance variable:  3.0597014925373136\n"
          ]
        }
      ],
      "source": [
        "print('Percentage of data missing in the Age variable: ',(189/1340)*100)\n",
        "print('Percentage of data missing in the Gender variable: ', (12/1340)*100)\n",
        "print('Percentage of data missing in the SeatBelt variable: ',(48/1340)*100)\n",
        "print('Percentage of data missing in the Driver Insurance variable: ',(41/1340)*100)"
      ]
    },
    {
      "cell_type": "code",
      "execution_count": 8,
      "metadata": {
        "scrolled": true,
        "colab": {
          "base_uri": "https://localhost:8080/",
          "height": 423
        },
        "id": "iP9rcUPysbap",
        "outputId": "835fa6fc-f706-4928-eed2-a4ee53183840"
      },
      "outputs": [
        {
          "output_type": "execute_result",
          "data": {
            "text/plain": [
              "      ATTORNEY  CLMSEX  CLMINSUR  SEATBELT  CLMAGE   LOSS\n",
              "9            1     0.0       1.0       0.0     NaN  0.350\n",
              "20           0     0.0       NaN       0.0    37.0  3.100\n",
              "23           0     0.0       NaN       0.0    30.0  0.609\n",
              "29           0     0.0       1.0       0.0     NaN  0.595\n",
              "31           1     0.0       1.0       0.0     NaN  0.337\n",
              "...        ...     ...       ...       ...     ...    ...\n",
              "1316         1     1.0       0.0       NaN    10.0  0.158\n",
              "1318         1     1.0       1.0       0.0     NaN  0.070\n",
              "1320         1     1.0       1.0       0.0     NaN  0.540\n",
              "1321         0     0.0       1.0       0.0     NaN  3.437\n",
              "1335         1     0.0       1.0       0.0     NaN  0.576\n",
              "\n",
              "[244 rows x 6 columns]"
            ],
            "text/html": [
              "\n",
              "  <div id=\"df-3f859d73-4ed4-4268-9ea9-db650f10bac9\">\n",
              "    <div class=\"colab-df-container\">\n",
              "      <div>\n",
              "<style scoped>\n",
              "    .dataframe tbody tr th:only-of-type {\n",
              "        vertical-align: middle;\n",
              "    }\n",
              "\n",
              "    .dataframe tbody tr th {\n",
              "        vertical-align: top;\n",
              "    }\n",
              "\n",
              "    .dataframe thead th {\n",
              "        text-align: right;\n",
              "    }\n",
              "</style>\n",
              "<table border=\"1\" class=\"dataframe\">\n",
              "  <thead>\n",
              "    <tr style=\"text-align: right;\">\n",
              "      <th></th>\n",
              "      <th>ATTORNEY</th>\n",
              "      <th>CLMSEX</th>\n",
              "      <th>CLMINSUR</th>\n",
              "      <th>SEATBELT</th>\n",
              "      <th>CLMAGE</th>\n",
              "      <th>LOSS</th>\n",
              "    </tr>\n",
              "  </thead>\n",
              "  <tbody>\n",
              "    <tr>\n",
              "      <th>9</th>\n",
              "      <td>1</td>\n",
              "      <td>0.0</td>\n",
              "      <td>1.0</td>\n",
              "      <td>0.0</td>\n",
              "      <td>NaN</td>\n",
              "      <td>0.350</td>\n",
              "    </tr>\n",
              "    <tr>\n",
              "      <th>20</th>\n",
              "      <td>0</td>\n",
              "      <td>0.0</td>\n",
              "      <td>NaN</td>\n",
              "      <td>0.0</td>\n",
              "      <td>37.0</td>\n",
              "      <td>3.100</td>\n",
              "    </tr>\n",
              "    <tr>\n",
              "      <th>23</th>\n",
              "      <td>0</td>\n",
              "      <td>0.0</td>\n",
              "      <td>NaN</td>\n",
              "      <td>0.0</td>\n",
              "      <td>30.0</td>\n",
              "      <td>0.609</td>\n",
              "    </tr>\n",
              "    <tr>\n",
              "      <th>29</th>\n",
              "      <td>0</td>\n",
              "      <td>0.0</td>\n",
              "      <td>1.0</td>\n",
              "      <td>0.0</td>\n",
              "      <td>NaN</td>\n",
              "      <td>0.595</td>\n",
              "    </tr>\n",
              "    <tr>\n",
              "      <th>31</th>\n",
              "      <td>1</td>\n",
              "      <td>0.0</td>\n",
              "      <td>1.0</td>\n",
              "      <td>0.0</td>\n",
              "      <td>NaN</td>\n",
              "      <td>0.337</td>\n",
              "    </tr>\n",
              "    <tr>\n",
              "      <th>...</th>\n",
              "      <td>...</td>\n",
              "      <td>...</td>\n",
              "      <td>...</td>\n",
              "      <td>...</td>\n",
              "      <td>...</td>\n",
              "      <td>...</td>\n",
              "    </tr>\n",
              "    <tr>\n",
              "      <th>1316</th>\n",
              "      <td>1</td>\n",
              "      <td>1.0</td>\n",
              "      <td>0.0</td>\n",
              "      <td>NaN</td>\n",
              "      <td>10.0</td>\n",
              "      <td>0.158</td>\n",
              "    </tr>\n",
              "    <tr>\n",
              "      <th>1318</th>\n",
              "      <td>1</td>\n",
              "      <td>1.0</td>\n",
              "      <td>1.0</td>\n",
              "      <td>0.0</td>\n",
              "      <td>NaN</td>\n",
              "      <td>0.070</td>\n",
              "    </tr>\n",
              "    <tr>\n",
              "      <th>1320</th>\n",
              "      <td>1</td>\n",
              "      <td>1.0</td>\n",
              "      <td>1.0</td>\n",
              "      <td>0.0</td>\n",
              "      <td>NaN</td>\n",
              "      <td>0.540</td>\n",
              "    </tr>\n",
              "    <tr>\n",
              "      <th>1321</th>\n",
              "      <td>0</td>\n",
              "      <td>0.0</td>\n",
              "      <td>1.0</td>\n",
              "      <td>0.0</td>\n",
              "      <td>NaN</td>\n",
              "      <td>3.437</td>\n",
              "    </tr>\n",
              "    <tr>\n",
              "      <th>1335</th>\n",
              "      <td>1</td>\n",
              "      <td>0.0</td>\n",
              "      <td>1.0</td>\n",
              "      <td>0.0</td>\n",
              "      <td>NaN</td>\n",
              "      <td>0.576</td>\n",
              "    </tr>\n",
              "  </tbody>\n",
              "</table>\n",
              "<p>244 rows × 6 columns</p>\n",
              "</div>\n",
              "      <button class=\"colab-df-convert\" onclick=\"convertToInteractive('df-3f859d73-4ed4-4268-9ea9-db650f10bac9')\"\n",
              "              title=\"Convert this dataframe to an interactive table.\"\n",
              "              style=\"display:none;\">\n",
              "        \n",
              "  <svg xmlns=\"http://www.w3.org/2000/svg\" height=\"24px\"viewBox=\"0 0 24 24\"\n",
              "       width=\"24px\">\n",
              "    <path d=\"M0 0h24v24H0V0z\" fill=\"none\"/>\n",
              "    <path d=\"M18.56 5.44l.94 2.06.94-2.06 2.06-.94-2.06-.94-.94-2.06-.94 2.06-2.06.94zm-11 1L8.5 8.5l.94-2.06 2.06-.94-2.06-.94L8.5 2.5l-.94 2.06-2.06.94zm10 10l.94 2.06.94-2.06 2.06-.94-2.06-.94-.94-2.06-.94 2.06-2.06.94z\"/><path d=\"M17.41 7.96l-1.37-1.37c-.4-.4-.92-.59-1.43-.59-.52 0-1.04.2-1.43.59L10.3 9.45l-7.72 7.72c-.78.78-.78 2.05 0 2.83L4 21.41c.39.39.9.59 1.41.59.51 0 1.02-.2 1.41-.59l7.78-7.78 2.81-2.81c.8-.78.8-2.07 0-2.86zM5.41 20L4 18.59l7.72-7.72 1.47 1.35L5.41 20z\"/>\n",
              "  </svg>\n",
              "      </button>\n",
              "      \n",
              "  <style>\n",
              "    .colab-df-container {\n",
              "      display:flex;\n",
              "      flex-wrap:wrap;\n",
              "      gap: 12px;\n",
              "    }\n",
              "\n",
              "    .colab-df-convert {\n",
              "      background-color: #E8F0FE;\n",
              "      border: none;\n",
              "      border-radius: 50%;\n",
              "      cursor: pointer;\n",
              "      display: none;\n",
              "      fill: #1967D2;\n",
              "      height: 32px;\n",
              "      padding: 0 0 0 0;\n",
              "      width: 32px;\n",
              "    }\n",
              "\n",
              "    .colab-df-convert:hover {\n",
              "      background-color: #E2EBFA;\n",
              "      box-shadow: 0px 1px 2px rgba(60, 64, 67, 0.3), 0px 1px 3px 1px rgba(60, 64, 67, 0.15);\n",
              "      fill: #174EA6;\n",
              "    }\n",
              "\n",
              "    [theme=dark] .colab-df-convert {\n",
              "      background-color: #3B4455;\n",
              "      fill: #D2E3FC;\n",
              "    }\n",
              "\n",
              "    [theme=dark] .colab-df-convert:hover {\n",
              "      background-color: #434B5C;\n",
              "      box-shadow: 0px 1px 3px 1px rgba(0, 0, 0, 0.15);\n",
              "      filter: drop-shadow(0px 1px 2px rgba(0, 0, 0, 0.3));\n",
              "      fill: #FFFFFF;\n",
              "    }\n",
              "  </style>\n",
              "\n",
              "      <script>\n",
              "        const buttonEl =\n",
              "          document.querySelector('#df-3f859d73-4ed4-4268-9ea9-db650f10bac9 button.colab-df-convert');\n",
              "        buttonEl.style.display =\n",
              "          google.colab.kernel.accessAllowed ? 'block' : 'none';\n",
              "\n",
              "        async function convertToInteractive(key) {\n",
              "          const element = document.querySelector('#df-3f859d73-4ed4-4268-9ea9-db650f10bac9');\n",
              "          const dataTable =\n",
              "            await google.colab.kernel.invokeFunction('convertToInteractive',\n",
              "                                                     [key], {});\n",
              "          if (!dataTable) return;\n",
              "\n",
              "          const docLinkHtml = 'Like what you see? Visit the ' +\n",
              "            '<a target=\"_blank\" href=https://colab.research.google.com/notebooks/data_table.ipynb>data table notebook</a>'\n",
              "            + ' to learn more about interactive tables.';\n",
              "          element.innerHTML = '';\n",
              "          dataTable['output_type'] = 'display_data';\n",
              "          await google.colab.output.renderOutput(dataTable, element);\n",
              "          const docLink = document.createElement('div');\n",
              "          docLink.innerHTML = docLinkHtml;\n",
              "          element.appendChild(docLink);\n",
              "        }\n",
              "      </script>\n",
              "    </div>\n",
              "  </div>\n",
              "  "
            ]
          },
          "metadata": {},
          "execution_count": 8
        }
      ],
      "source": [
        "claimants[claimants.isnull().any(axis=1)]"
      ]
    },
    {
      "cell_type": "code",
      "execution_count": 9,
      "metadata": {
        "colab": {
          "base_uri": "https://localhost:8080/"
        },
        "id": "9kq_adUcsbaq",
        "outputId": "3208fd13-9d0a-49ee-d603-579bfb5591c6"
      },
      "outputs": [
        {
          "output_type": "execute_result",
          "data": {
            "text/plain": [
              "0.18208955223880596"
            ]
          },
          "metadata": {},
          "execution_count": 9
        }
      ],
      "source": [
        "len(claimants[claimants.isnull().any(axis=1)])/1340"
      ]
    },
    {
      "cell_type": "code",
      "execution_count": 10,
      "metadata": {
        "colab": {
          "base_uri": "https://localhost:8080/"
        },
        "id": "cFBa4kcKsbaq",
        "outputId": "d5a60e0d-bd6a-45dc-f626-24d06c7367b8"
      },
      "outputs": [
        {
          "output_type": "execute_result",
          "data": {
            "text/plain": [
              "(1096, 6)"
            ]
          },
          "metadata": {},
          "execution_count": 10
        }
      ],
      "source": [
        "# Removing NA values in data set\n",
        "claimants = claimants.dropna()\n",
        "claimants.shape"
      ]
    },
    {
      "cell_type": "code",
      "execution_count": 11,
      "metadata": {
        "scrolled": true,
        "colab": {
          "base_uri": "https://localhost:8080/",
          "height": 423
        },
        "id": "iYlbUpYTsbar",
        "outputId": "68821ac6-5517-458f-e68a-3eba1759ae98"
      },
      "outputs": [
        {
          "output_type": "execute_result",
          "data": {
            "text/plain": [
              "      ATTORNEY  CLMSEX  CLMINSUR  SEATBELT  CLMAGE    LOSS\n",
              "0            0     0.0       1.0       0.0    50.0  34.940\n",
              "1            1     1.0       0.0       0.0    18.0   0.891\n",
              "2            1     0.0       1.0       0.0     5.0   0.330\n",
              "3            0     0.0       1.0       1.0    31.0   0.037\n",
              "4            1     0.0       1.0       0.0    30.0   0.038\n",
              "...        ...     ...       ...       ...     ...     ...\n",
              "1334         1     1.0       1.0       0.0    16.0   0.060\n",
              "1336         0     1.0       1.0       0.0    46.0   3.705\n",
              "1337         1     1.0       1.0       0.0    39.0   0.099\n",
              "1338         0     1.0       0.0       0.0     8.0   3.177\n",
              "1339         1     1.0       1.0       0.0    30.0   0.688\n",
              "\n",
              "[1096 rows x 6 columns]"
            ],
            "text/html": [
              "\n",
              "  <div id=\"df-b405dce3-27f2-4eb4-8042-a84681476382\">\n",
              "    <div class=\"colab-df-container\">\n",
              "      <div>\n",
              "<style scoped>\n",
              "    .dataframe tbody tr th:only-of-type {\n",
              "        vertical-align: middle;\n",
              "    }\n",
              "\n",
              "    .dataframe tbody tr th {\n",
              "        vertical-align: top;\n",
              "    }\n",
              "\n",
              "    .dataframe thead th {\n",
              "        text-align: right;\n",
              "    }\n",
              "</style>\n",
              "<table border=\"1\" class=\"dataframe\">\n",
              "  <thead>\n",
              "    <tr style=\"text-align: right;\">\n",
              "      <th></th>\n",
              "      <th>ATTORNEY</th>\n",
              "      <th>CLMSEX</th>\n",
              "      <th>CLMINSUR</th>\n",
              "      <th>SEATBELT</th>\n",
              "      <th>CLMAGE</th>\n",
              "      <th>LOSS</th>\n",
              "    </tr>\n",
              "  </thead>\n",
              "  <tbody>\n",
              "    <tr>\n",
              "      <th>0</th>\n",
              "      <td>0</td>\n",
              "      <td>0.0</td>\n",
              "      <td>1.0</td>\n",
              "      <td>0.0</td>\n",
              "      <td>50.0</td>\n",
              "      <td>34.940</td>\n",
              "    </tr>\n",
              "    <tr>\n",
              "      <th>1</th>\n",
              "      <td>1</td>\n",
              "      <td>1.0</td>\n",
              "      <td>0.0</td>\n",
              "      <td>0.0</td>\n",
              "      <td>18.0</td>\n",
              "      <td>0.891</td>\n",
              "    </tr>\n",
              "    <tr>\n",
              "      <th>2</th>\n",
              "      <td>1</td>\n",
              "      <td>0.0</td>\n",
              "      <td>1.0</td>\n",
              "      <td>0.0</td>\n",
              "      <td>5.0</td>\n",
              "      <td>0.330</td>\n",
              "    </tr>\n",
              "    <tr>\n",
              "      <th>3</th>\n",
              "      <td>0</td>\n",
              "      <td>0.0</td>\n",
              "      <td>1.0</td>\n",
              "      <td>1.0</td>\n",
              "      <td>31.0</td>\n",
              "      <td>0.037</td>\n",
              "    </tr>\n",
              "    <tr>\n",
              "      <th>4</th>\n",
              "      <td>1</td>\n",
              "      <td>0.0</td>\n",
              "      <td>1.0</td>\n",
              "      <td>0.0</td>\n",
              "      <td>30.0</td>\n",
              "      <td>0.038</td>\n",
              "    </tr>\n",
              "    <tr>\n",
              "      <th>...</th>\n",
              "      <td>...</td>\n",
              "      <td>...</td>\n",
              "      <td>...</td>\n",
              "      <td>...</td>\n",
              "      <td>...</td>\n",
              "      <td>...</td>\n",
              "    </tr>\n",
              "    <tr>\n",
              "      <th>1334</th>\n",
              "      <td>1</td>\n",
              "      <td>1.0</td>\n",
              "      <td>1.0</td>\n",
              "      <td>0.0</td>\n",
              "      <td>16.0</td>\n",
              "      <td>0.060</td>\n",
              "    </tr>\n",
              "    <tr>\n",
              "      <th>1336</th>\n",
              "      <td>0</td>\n",
              "      <td>1.0</td>\n",
              "      <td>1.0</td>\n",
              "      <td>0.0</td>\n",
              "      <td>46.0</td>\n",
              "      <td>3.705</td>\n",
              "    </tr>\n",
              "    <tr>\n",
              "      <th>1337</th>\n",
              "      <td>1</td>\n",
              "      <td>1.0</td>\n",
              "      <td>1.0</td>\n",
              "      <td>0.0</td>\n",
              "      <td>39.0</td>\n",
              "      <td>0.099</td>\n",
              "    </tr>\n",
              "    <tr>\n",
              "      <th>1338</th>\n",
              "      <td>0</td>\n",
              "      <td>1.0</td>\n",
              "      <td>0.0</td>\n",
              "      <td>0.0</td>\n",
              "      <td>8.0</td>\n",
              "      <td>3.177</td>\n",
              "    </tr>\n",
              "    <tr>\n",
              "      <th>1339</th>\n",
              "      <td>1</td>\n",
              "      <td>1.0</td>\n",
              "      <td>1.0</td>\n",
              "      <td>0.0</td>\n",
              "      <td>30.0</td>\n",
              "      <td>0.688</td>\n",
              "    </tr>\n",
              "  </tbody>\n",
              "</table>\n",
              "<p>1096 rows × 6 columns</p>\n",
              "</div>\n",
              "      <button class=\"colab-df-convert\" onclick=\"convertToInteractive('df-b405dce3-27f2-4eb4-8042-a84681476382')\"\n",
              "              title=\"Convert this dataframe to an interactive table.\"\n",
              "              style=\"display:none;\">\n",
              "        \n",
              "  <svg xmlns=\"http://www.w3.org/2000/svg\" height=\"24px\"viewBox=\"0 0 24 24\"\n",
              "       width=\"24px\">\n",
              "    <path d=\"M0 0h24v24H0V0z\" fill=\"none\"/>\n",
              "    <path d=\"M18.56 5.44l.94 2.06.94-2.06 2.06-.94-2.06-.94-.94-2.06-.94 2.06-2.06.94zm-11 1L8.5 8.5l.94-2.06 2.06-.94-2.06-.94L8.5 2.5l-.94 2.06-2.06.94zm10 10l.94 2.06.94-2.06 2.06-.94-2.06-.94-.94-2.06-.94 2.06-2.06.94z\"/><path d=\"M17.41 7.96l-1.37-1.37c-.4-.4-.92-.59-1.43-.59-.52 0-1.04.2-1.43.59L10.3 9.45l-7.72 7.72c-.78.78-.78 2.05 0 2.83L4 21.41c.39.39.9.59 1.41.59.51 0 1.02-.2 1.41-.59l7.78-7.78 2.81-2.81c.8-.78.8-2.07 0-2.86zM5.41 20L4 18.59l7.72-7.72 1.47 1.35L5.41 20z\"/>\n",
              "  </svg>\n",
              "      </button>\n",
              "      \n",
              "  <style>\n",
              "    .colab-df-container {\n",
              "      display:flex;\n",
              "      flex-wrap:wrap;\n",
              "      gap: 12px;\n",
              "    }\n",
              "\n",
              "    .colab-df-convert {\n",
              "      background-color: #E8F0FE;\n",
              "      border: none;\n",
              "      border-radius: 50%;\n",
              "      cursor: pointer;\n",
              "      display: none;\n",
              "      fill: #1967D2;\n",
              "      height: 32px;\n",
              "      padding: 0 0 0 0;\n",
              "      width: 32px;\n",
              "    }\n",
              "\n",
              "    .colab-df-convert:hover {\n",
              "      background-color: #E2EBFA;\n",
              "      box-shadow: 0px 1px 2px rgba(60, 64, 67, 0.3), 0px 1px 3px 1px rgba(60, 64, 67, 0.15);\n",
              "      fill: #174EA6;\n",
              "    }\n",
              "\n",
              "    [theme=dark] .colab-df-convert {\n",
              "      background-color: #3B4455;\n",
              "      fill: #D2E3FC;\n",
              "    }\n",
              "\n",
              "    [theme=dark] .colab-df-convert:hover {\n",
              "      background-color: #434B5C;\n",
              "      box-shadow: 0px 1px 3px 1px rgba(0, 0, 0, 0.15);\n",
              "      filter: drop-shadow(0px 1px 2px rgba(0, 0, 0, 0.3));\n",
              "      fill: #FFFFFF;\n",
              "    }\n",
              "  </style>\n",
              "\n",
              "      <script>\n",
              "        const buttonEl =\n",
              "          document.querySelector('#df-b405dce3-27f2-4eb4-8042-a84681476382 button.colab-df-convert');\n",
              "        buttonEl.style.display =\n",
              "          google.colab.kernel.accessAllowed ? 'block' : 'none';\n",
              "\n",
              "        async function convertToInteractive(key) {\n",
              "          const element = document.querySelector('#df-b405dce3-27f2-4eb4-8042-a84681476382');\n",
              "          const dataTable =\n",
              "            await google.colab.kernel.invokeFunction('convertToInteractive',\n",
              "                                                     [key], {});\n",
              "          if (!dataTable) return;\n",
              "\n",
              "          const docLinkHtml = 'Like what you see? Visit the ' +\n",
              "            '<a target=\"_blank\" href=https://colab.research.google.com/notebooks/data_table.ipynb>data table notebook</a>'\n",
              "            + ' to learn more about interactive tables.';\n",
              "          element.innerHTML = '';\n",
              "          dataTable['output_type'] = 'display_data';\n",
              "          await google.colab.output.renderOutput(dataTable, element);\n",
              "          const docLink = document.createElement('div');\n",
              "          docLink.innerHTML = docLinkHtml;\n",
              "          element.appendChild(docLink);\n",
              "        }\n",
              "      </script>\n",
              "    </div>\n",
              "  </div>\n",
              "  "
            ]
          },
          "metadata": {},
          "execution_count": 11
        }
      ],
      "source": [
        "claimants"
      ]
    },
    {
      "cell_type": "code",
      "execution_count": 12,
      "metadata": {
        "id": "WGgVKHQ3sbar"
      },
      "outputs": [],
      "source": [
        "# Dividing our data into input and output variables\n",
        "X = claimants.iloc[:,1:]\n",
        "Y = claimants.iloc[:,0]"
      ]
    },
    {
      "cell_type": "code",
      "execution_count": 13,
      "metadata": {
        "colab": {
          "base_uri": "https://localhost:8080/",
          "height": 74
        },
        "id": "U9FaO78msbar",
        "outputId": "103d97b1-7324-4312-d14d-db92f15116c5"
      },
      "outputs": [
        {
          "output_type": "execute_result",
          "data": {
            "text/plain": [
              "LogisticRegression()"
            ],
            "text/html": [
              "<style>#sk-container-id-1 {color: black;background-color: white;}#sk-container-id-1 pre{padding: 0;}#sk-container-id-1 div.sk-toggleable {background-color: white;}#sk-container-id-1 label.sk-toggleable__label {cursor: pointer;display: block;width: 100%;margin-bottom: 0;padding: 0.3em;box-sizing: border-box;text-align: center;}#sk-container-id-1 label.sk-toggleable__label-arrow:before {content: \"▸\";float: left;margin-right: 0.25em;color: #696969;}#sk-container-id-1 label.sk-toggleable__label-arrow:hover:before {color: black;}#sk-container-id-1 div.sk-estimator:hover label.sk-toggleable__label-arrow:before {color: black;}#sk-container-id-1 div.sk-toggleable__content {max-height: 0;max-width: 0;overflow: hidden;text-align: left;background-color: #f0f8ff;}#sk-container-id-1 div.sk-toggleable__content pre {margin: 0.2em;color: black;border-radius: 0.25em;background-color: #f0f8ff;}#sk-container-id-1 input.sk-toggleable__control:checked~div.sk-toggleable__content {max-height: 200px;max-width: 100%;overflow: auto;}#sk-container-id-1 input.sk-toggleable__control:checked~label.sk-toggleable__label-arrow:before {content: \"▾\";}#sk-container-id-1 div.sk-estimator input.sk-toggleable__control:checked~label.sk-toggleable__label {background-color: #d4ebff;}#sk-container-id-1 div.sk-label input.sk-toggleable__control:checked~label.sk-toggleable__label {background-color: #d4ebff;}#sk-container-id-1 input.sk-hidden--visually {border: 0;clip: rect(1px 1px 1px 1px);clip: rect(1px, 1px, 1px, 1px);height: 1px;margin: -1px;overflow: hidden;padding: 0;position: absolute;width: 1px;}#sk-container-id-1 div.sk-estimator {font-family: monospace;background-color: #f0f8ff;border: 1px dotted black;border-radius: 0.25em;box-sizing: border-box;margin-bottom: 0.5em;}#sk-container-id-1 div.sk-estimator:hover {background-color: #d4ebff;}#sk-container-id-1 div.sk-parallel-item::after {content: \"\";width: 100%;border-bottom: 1px solid gray;flex-grow: 1;}#sk-container-id-1 div.sk-label:hover label.sk-toggleable__label {background-color: #d4ebff;}#sk-container-id-1 div.sk-serial::before {content: \"\";position: absolute;border-left: 1px solid gray;box-sizing: border-box;top: 0;bottom: 0;left: 50%;z-index: 0;}#sk-container-id-1 div.sk-serial {display: flex;flex-direction: column;align-items: center;background-color: white;padding-right: 0.2em;padding-left: 0.2em;position: relative;}#sk-container-id-1 div.sk-item {position: relative;z-index: 1;}#sk-container-id-1 div.sk-parallel {display: flex;align-items: stretch;justify-content: center;background-color: white;position: relative;}#sk-container-id-1 div.sk-item::before, #sk-container-id-1 div.sk-parallel-item::before {content: \"\";position: absolute;border-left: 1px solid gray;box-sizing: border-box;top: 0;bottom: 0;left: 50%;z-index: -1;}#sk-container-id-1 div.sk-parallel-item {display: flex;flex-direction: column;z-index: 1;position: relative;background-color: white;}#sk-container-id-1 div.sk-parallel-item:first-child::after {align-self: flex-end;width: 50%;}#sk-container-id-1 div.sk-parallel-item:last-child::after {align-self: flex-start;width: 50%;}#sk-container-id-1 div.sk-parallel-item:only-child::after {width: 0;}#sk-container-id-1 div.sk-dashed-wrapped {border: 1px dashed gray;margin: 0 0.4em 0.5em 0.4em;box-sizing: border-box;padding-bottom: 0.4em;background-color: white;}#sk-container-id-1 div.sk-label label {font-family: monospace;font-weight: bold;display: inline-block;line-height: 1.2em;}#sk-container-id-1 div.sk-label-container {text-align: center;}#sk-container-id-1 div.sk-container {/* jupyter's `normalize.less` sets `[hidden] { display: none; }` but bootstrap.min.css set `[hidden] { display: none !important; }` so we also need the `!important` here to be able to override the default hidden behavior on the sphinx rendered scikit-learn.org. See: https://github.com/scikit-learn/scikit-learn/issues/21755 */display: inline-block !important;position: relative;}#sk-container-id-1 div.sk-text-repr-fallback {display: none;}</style><div id=\"sk-container-id-1\" class=\"sk-top-container\"><div class=\"sk-text-repr-fallback\"><pre>LogisticRegression()</pre><b>In a Jupyter environment, please rerun this cell to show the HTML representation or trust the notebook. <br />On GitHub, the HTML representation is unable to render, please try loading this page with nbviewer.org.</b></div><div class=\"sk-container\" hidden><div class=\"sk-item\"><div class=\"sk-estimator sk-toggleable\"><input class=\"sk-toggleable__control sk-hidden--visually\" id=\"sk-estimator-id-1\" type=\"checkbox\" checked><label for=\"sk-estimator-id-1\" class=\"sk-toggleable__label sk-toggleable__label-arrow\">LogisticRegression</label><div class=\"sk-toggleable__content\"><pre>LogisticRegression()</pre></div></div></div></div></div>"
            ]
          },
          "metadata": {},
          "execution_count": 13
        }
      ],
      "source": [
        "#Logistic regression and fit the model\n",
        "classifier = LogisticRegression()\n",
        "classifier.fit(X,Y)"
      ]
    },
    {
      "cell_type": "code",
      "execution_count": 14,
      "metadata": {
        "id": "kWy0MClVsbar"
      },
      "outputs": [],
      "source": [
        "#0= Male   1=Female\n",
        "#0= Appointing Attorney    1=Not appointing attorney\n",
        "#0=Wearing SeatBelt   1= Not Wearing SeatBelt"
      ]
    },
    {
      "cell_type": "code",
      "execution_count": 15,
      "metadata": {
        "colab": {
          "base_uri": "https://localhost:8080/"
        },
        "id": "0RaI4kzcsbas",
        "outputId": "819f507f-e4fa-4a29-aa23-2ee4f430621b"
      },
      "outputs": [
        {
          "output_type": "execute_result",
          "data": {
            "text/plain": [
              "array([[ 0.42687928,  0.57068784, -0.59439873,  0.00653888, -0.38424791]])"
            ]
          },
          "metadata": {},
          "execution_count": 15
        }
      ],
      "source": [
        "classifier.coef_"
      ]
    },
    {
      "cell_type": "code",
      "execution_count": 16,
      "metadata": {
        "colab": {
          "base_uri": "https://localhost:8080/"
        },
        "id": "6TVlEZJ5sbas",
        "outputId": "0534670f-d295-4520-a27a-ff818cb1489c"
      },
      "outputs": [
        {
          "output_type": "execute_result",
          "data": {
            "text/plain": [
              "0    0.426879\n",
              "1    0.570688\n",
              "2   -0.594399\n",
              "3    0.006539\n",
              "4   -0.384248\n",
              "dtype: float64"
            ]
          },
          "metadata": {},
          "execution_count": 16
        }
      ],
      "source": [
        "Beta_Coefficients=pd.Series(classifier.coef_[0])\n",
        "Beta_Coefficients"
      ]
    },
    {
      "cell_type": "code",
      "execution_count": 17,
      "metadata": {
        "colab": {
          "base_uri": "https://localhost:8080/",
          "height": 206
        },
        "id": "fxYMTh_qsbas",
        "outputId": "58123ada-74a0-4377-a346-de2a95341001"
      },
      "outputs": [
        {
          "output_type": "execute_result",
          "data": {
            "text/plain": [
              "  Variables  Beta Coefficients\n",
              "0    CLMSEX           0.426879\n",
              "1  CLMINSUR           0.570688\n",
              "2  SEATBELT          -0.594399\n",
              "3    CLMAGE           0.006539\n",
              "4      LOSS          -0.384248"
            ],
            "text/html": [
              "\n",
              "  <div id=\"df-8dcc026e-5e42-46a9-bfd2-6bb7ff9606c0\">\n",
              "    <div class=\"colab-df-container\">\n",
              "      <div>\n",
              "<style scoped>\n",
              "    .dataframe tbody tr th:only-of-type {\n",
              "        vertical-align: middle;\n",
              "    }\n",
              "\n",
              "    .dataframe tbody tr th {\n",
              "        vertical-align: top;\n",
              "    }\n",
              "\n",
              "    .dataframe thead th {\n",
              "        text-align: right;\n",
              "    }\n",
              "</style>\n",
              "<table border=\"1\" class=\"dataframe\">\n",
              "  <thead>\n",
              "    <tr style=\"text-align: right;\">\n",
              "      <th></th>\n",
              "      <th>Variables</th>\n",
              "      <th>Beta Coefficients</th>\n",
              "    </tr>\n",
              "  </thead>\n",
              "  <tbody>\n",
              "    <tr>\n",
              "      <th>0</th>\n",
              "      <td>CLMSEX</td>\n",
              "      <td>0.426879</td>\n",
              "    </tr>\n",
              "    <tr>\n",
              "      <th>1</th>\n",
              "      <td>CLMINSUR</td>\n",
              "      <td>0.570688</td>\n",
              "    </tr>\n",
              "    <tr>\n",
              "      <th>2</th>\n",
              "      <td>SEATBELT</td>\n",
              "      <td>-0.594399</td>\n",
              "    </tr>\n",
              "    <tr>\n",
              "      <th>3</th>\n",
              "      <td>CLMAGE</td>\n",
              "      <td>0.006539</td>\n",
              "    </tr>\n",
              "    <tr>\n",
              "      <th>4</th>\n",
              "      <td>LOSS</td>\n",
              "      <td>-0.384248</td>\n",
              "    </tr>\n",
              "  </tbody>\n",
              "</table>\n",
              "</div>\n",
              "      <button class=\"colab-df-convert\" onclick=\"convertToInteractive('df-8dcc026e-5e42-46a9-bfd2-6bb7ff9606c0')\"\n",
              "              title=\"Convert this dataframe to an interactive table.\"\n",
              "              style=\"display:none;\">\n",
              "        \n",
              "  <svg xmlns=\"http://www.w3.org/2000/svg\" height=\"24px\"viewBox=\"0 0 24 24\"\n",
              "       width=\"24px\">\n",
              "    <path d=\"M0 0h24v24H0V0z\" fill=\"none\"/>\n",
              "    <path d=\"M18.56 5.44l.94 2.06.94-2.06 2.06-.94-2.06-.94-.94-2.06-.94 2.06-2.06.94zm-11 1L8.5 8.5l.94-2.06 2.06-.94-2.06-.94L8.5 2.5l-.94 2.06-2.06.94zm10 10l.94 2.06.94-2.06 2.06-.94-2.06-.94-.94-2.06-.94 2.06-2.06.94z\"/><path d=\"M17.41 7.96l-1.37-1.37c-.4-.4-.92-.59-1.43-.59-.52 0-1.04.2-1.43.59L10.3 9.45l-7.72 7.72c-.78.78-.78 2.05 0 2.83L4 21.41c.39.39.9.59 1.41.59.51 0 1.02-.2 1.41-.59l7.78-7.78 2.81-2.81c.8-.78.8-2.07 0-2.86zM5.41 20L4 18.59l7.72-7.72 1.47 1.35L5.41 20z\"/>\n",
              "  </svg>\n",
              "      </button>\n",
              "      \n",
              "  <style>\n",
              "    .colab-df-container {\n",
              "      display:flex;\n",
              "      flex-wrap:wrap;\n",
              "      gap: 12px;\n",
              "    }\n",
              "\n",
              "    .colab-df-convert {\n",
              "      background-color: #E8F0FE;\n",
              "      border: none;\n",
              "      border-radius: 50%;\n",
              "      cursor: pointer;\n",
              "      display: none;\n",
              "      fill: #1967D2;\n",
              "      height: 32px;\n",
              "      padding: 0 0 0 0;\n",
              "      width: 32px;\n",
              "    }\n",
              "\n",
              "    .colab-df-convert:hover {\n",
              "      background-color: #E2EBFA;\n",
              "      box-shadow: 0px 1px 2px rgba(60, 64, 67, 0.3), 0px 1px 3px 1px rgba(60, 64, 67, 0.15);\n",
              "      fill: #174EA6;\n",
              "    }\n",
              "\n",
              "    [theme=dark] .colab-df-convert {\n",
              "      background-color: #3B4455;\n",
              "      fill: #D2E3FC;\n",
              "    }\n",
              "\n",
              "    [theme=dark] .colab-df-convert:hover {\n",
              "      background-color: #434B5C;\n",
              "      box-shadow: 0px 1px 3px 1px rgba(0, 0, 0, 0.15);\n",
              "      filter: drop-shadow(0px 1px 2px rgba(0, 0, 0, 0.3));\n",
              "      fill: #FFFFFF;\n",
              "    }\n",
              "  </style>\n",
              "\n",
              "      <script>\n",
              "        const buttonEl =\n",
              "          document.querySelector('#df-8dcc026e-5e42-46a9-bfd2-6bb7ff9606c0 button.colab-df-convert');\n",
              "        buttonEl.style.display =\n",
              "          google.colab.kernel.accessAllowed ? 'block' : 'none';\n",
              "\n",
              "        async function convertToInteractive(key) {\n",
              "          const element = document.querySelector('#df-8dcc026e-5e42-46a9-bfd2-6bb7ff9606c0');\n",
              "          const dataTable =\n",
              "            await google.colab.kernel.invokeFunction('convertToInteractive',\n",
              "                                                     [key], {});\n",
              "          if (!dataTable) return;\n",
              "\n",
              "          const docLinkHtml = 'Like what you see? Visit the ' +\n",
              "            '<a target=\"_blank\" href=https://colab.research.google.com/notebooks/data_table.ipynb>data table notebook</a>'\n",
              "            + ' to learn more about interactive tables.';\n",
              "          element.innerHTML = '';\n",
              "          dataTable['output_type'] = 'display_data';\n",
              "          await google.colab.output.renderOutput(dataTable, element);\n",
              "          const docLink = document.createElement('div');\n",
              "          docLink.innerHTML = docLinkHtml;\n",
              "          element.appendChild(docLink);\n",
              "        }\n",
              "      </script>\n",
              "    </div>\n",
              "  </div>\n",
              "  "
            ]
          },
          "metadata": {},
          "execution_count": 17
        }
      ],
      "source": [
        "Coef_df= pd.DataFrame({'Variables': ['CLMSEX','CLMINSUR','SEATBELT','CLMAGE','LOSS'],\n",
        "                         'Beta Coefficients': Beta_Coefficients})\n",
        "Coef_df"
      ]
    },
    {
      "cell_type": "markdown",
      "metadata": {
        "id": "ZRE02Q2Wsbat"
      },
      "source": [
        "Interpretation\n",
        "\n",
        "The beta coefficients are always in favour of the associated with category associated with '1' in the dependent variable.\n",
        "\n",
        "In the given data:\n",
        "\n",
        "0=Male   1=Female  \n",
        "\n",
        "0=Appointing Attorney    1=Not appointing attorney\n",
        "\n",
        "0=Wearing SeatBelt   1= Not Wearing SeatBelt\n",
        "\n",
        "0=Driver was uninsured   1=Driver was insured\n",
        "\n",
        "- A Female has 0.42 greater chances of not appointing Attorney as compared to males\n",
        "- A claimant whose driver was insured has 0.57 greater chances of not appointing Attorney as compared to a claimant whose driver was not insured.\n",
        "- Claimant's driver not wearing a seatbelt has 0.59 lesser chances not appointing Attorney.\n",
        "- With a unit increase in the age of the claimant, there is 0.006 times more chances that Attorney would not be hired.\n",
        "- With a unit increase in the loss, there is 0.38 times lesser chances not appointing the Attorney.\n",
        "\n",
        "For binary independent variables:\n",
        "As compared to binary outcome '0' in the independent variable, the binary outcome '1' for the independent variable has beta coefficient times more/less (depending +/- sign) impact on the binary outcome '1' in the dependent variable.\n",
        "\n",
        "For continuous independent variables:\n",
        "Generally, With every unit increase in the independent variable outcome, there will be beta coefficient times more/less (depending +/- sign) impact on the binary outcome '1' in the dependent variable."
      ]
    },
    {
      "cell_type": "code",
      "execution_count": 18,
      "metadata": {
        "colab": {
          "base_uri": "https://localhost:8080/"
        },
        "id": "cm3zcUmTsbaw",
        "outputId": "6eb97f33-e2b6-44b4-c11f-166007fa39fd"
      },
      "outputs": [
        {
          "output_type": "execute_result",
          "data": {
            "text/plain": [
              "array([-0.17361679])"
            ]
          },
          "metadata": {},
          "execution_count": 18
        }
      ],
      "source": [
        "classifier.intercept_"
      ]
    },
    {
      "cell_type": "code",
      "execution_count": 19,
      "metadata": {
        "colab": {
          "base_uri": "https://localhost:8080/"
        },
        "id": "XaqP2ueRsbaw",
        "outputId": "2791dd46-f608-49e3-99ec-9772b37645df"
      },
      "outputs": [
        {
          "output_type": "execute_result",
          "data": {
            "text/plain": [
              "array([0, 1])"
            ]
          },
          "metadata": {},
          "execution_count": 19
        }
      ],
      "source": [
        "classifier.classes_"
      ]
    },
    {
      "cell_type": "code",
      "execution_count": 20,
      "metadata": {
        "colab": {
          "base_uri": "https://localhost:8080/"
        },
        "id": "scKAvAxDsbaw",
        "outputId": "58f9425e-2599-4af8-fdf1-1a0250a9f1e6"
      },
      "outputs": [
        {
          "output_type": "execute_result",
          "data": {
            "text/plain": [
              "array([[0.99999695, 0.00000305],\n",
              "       [0.49285112, 0.50714888],\n",
              "       [0.42483316, 0.57516684],\n",
              "       [0.50220987, 0.49779013],\n",
              "       [0.3592465 , 0.6407535 ],\n",
              "       [0.282098  , 0.717902  ],\n",
              "       [0.7116781 , 0.2883219 ],\n",
              "       [0.69619459, 0.30380541],\n",
              "       [0.29308443, 0.70691557],\n",
              "       [0.78794885, 0.21205115],\n",
              "       [0.99896253, 0.00103747],\n",
              "       [0.55031037, 0.44968963],\n",
              "       [0.30429953, 0.69570047],\n",
              "       [0.26679564, 0.73320436],\n",
              "       [0.42757616, 0.57242384],\n",
              "       [0.234335  , 0.765665  ],\n",
              "       [0.38105653, 0.61894347],\n",
              "       [0.39730963, 0.60269037],\n",
              "       [0.68011205, 0.31988795],\n",
              "       [0.26327522, 0.73672478]])"
            ]
          },
          "metadata": {},
          "execution_count": 20
        }
      ],
      "source": [
        "import numpy as np\n",
        "np.set_printoptions(suppress=True)\n",
        "classifier.predict_proba(X)[0:20]"
      ]
    },
    {
      "cell_type": "markdown",
      "metadata": {
        "id": "U_pqYl9Psbax"
      },
      "source": [
        "0 = Appointing Attorney\n",
        "1 = Not Appointing Attorney\n",
        "\n",
        "So the probabilities on the left side in the array, are in favour of outcome '0', and the probabilities on the right are in favour of outcome '1'\n",
        "\n",
        "So if we refer to the probabilities on the right (outcome '1'),\n",
        "for observations where this probability is greater than 0.5, the model will categorize that observation with label 1, and for observations where the right hand side probabilities is lesser than 0.5, model will label them as outcome '0'"
      ]
    },
    {
      "cell_type": "code",
      "execution_count": 21,
      "metadata": {
        "colab": {
          "base_uri": "https://localhost:8080/"
        },
        "id": "HSokUX5Bsbax",
        "outputId": "f4afeb69-f913-4c75-ec35-99683e412175"
      },
      "outputs": [
        {
          "output_type": "execute_result",
          "data": {
            "text/plain": [
              "0.708029197080292"
            ]
          },
          "metadata": {},
          "execution_count": 21
        }
      ],
      "source": [
        "classifier.score(X,Y)"
      ]
    },
    {
      "cell_type": "code",
      "execution_count": 22,
      "metadata": {
        "id": "DQUOmBhWsbax"
      },
      "outputs": [],
      "source": [
        "#Predictions for X dataset\n",
        "y_pred = classifier.predict(X)"
      ]
    },
    {
      "cell_type": "code",
      "execution_count": 23,
      "metadata": {
        "colab": {
          "base_uri": "https://localhost:8080/"
        },
        "id": "E0yo5cMmsbax",
        "outputId": "3fd76574-18f4-47c3-c66f-4c8a134a204a"
      },
      "outputs": [
        {
          "output_type": "execute_result",
          "data": {
            "text/plain": [
              "array([0, 1, 1, ..., 1, 0, 1])"
            ]
          },
          "metadata": {},
          "execution_count": 23
        }
      ],
      "source": [
        "y_pred"
      ]
    },
    {
      "cell_type": "code",
      "execution_count": 24,
      "metadata": {
        "id": "I0Kr3NjZsbay"
      },
      "outputs": [],
      "source": [
        "y_pred_df= pd.DataFrame({'actual': Y,\n",
        "                         'predictions': classifier.predict(X)})"
      ]
    },
    {
      "cell_type": "code",
      "execution_count": 25,
      "metadata": {
        "colab": {
          "base_uri": "https://localhost:8080/",
          "height": 990
        },
        "id": "LzrYKr76sbay",
        "outputId": "95845509-c0ab-4223-ede5-74b596ea7a95"
      },
      "outputs": [
        {
          "output_type": "execute_result",
          "data": {
            "text/plain": [
              "    actual  predictions\n",
              "0        0            0\n",
              "1        1            1\n",
              "2        1            1\n",
              "3        0            0\n",
              "4        1            1\n",
              "5        0            1\n",
              "6        0            0\n",
              "7        0            0\n",
              "8        1            1\n",
              "10       0            0\n",
              "11       0            0\n",
              "12       1            0\n",
              "13       0            1\n",
              "14       1            1\n",
              "15       1            1\n",
              "16       1            1\n",
              "17       0            1\n",
              "18       1            1\n",
              "19       0            0\n",
              "21       1            1\n",
              "22       0            0\n",
              "24       1            0\n",
              "25       1            1\n",
              "26       1            1\n",
              "27       0            1\n",
              "28       1            1\n",
              "30       1            0\n",
              "32       1            1\n",
              "33       0            1\n",
              "34       0            0"
            ],
            "text/html": [
              "\n",
              "  <div id=\"df-8cc1c0cc-1dba-4ee3-a3bd-6df354dd42ad\">\n",
              "    <div class=\"colab-df-container\">\n",
              "      <div>\n",
              "<style scoped>\n",
              "    .dataframe tbody tr th:only-of-type {\n",
              "        vertical-align: middle;\n",
              "    }\n",
              "\n",
              "    .dataframe tbody tr th {\n",
              "        vertical-align: top;\n",
              "    }\n",
              "\n",
              "    .dataframe thead th {\n",
              "        text-align: right;\n",
              "    }\n",
              "</style>\n",
              "<table border=\"1\" class=\"dataframe\">\n",
              "  <thead>\n",
              "    <tr style=\"text-align: right;\">\n",
              "      <th></th>\n",
              "      <th>actual</th>\n",
              "      <th>predictions</th>\n",
              "    </tr>\n",
              "  </thead>\n",
              "  <tbody>\n",
              "    <tr>\n",
              "      <th>0</th>\n",
              "      <td>0</td>\n",
              "      <td>0</td>\n",
              "    </tr>\n",
              "    <tr>\n",
              "      <th>1</th>\n",
              "      <td>1</td>\n",
              "      <td>1</td>\n",
              "    </tr>\n",
              "    <tr>\n",
              "      <th>2</th>\n",
              "      <td>1</td>\n",
              "      <td>1</td>\n",
              "    </tr>\n",
              "    <tr>\n",
              "      <th>3</th>\n",
              "      <td>0</td>\n",
              "      <td>0</td>\n",
              "    </tr>\n",
              "    <tr>\n",
              "      <th>4</th>\n",
              "      <td>1</td>\n",
              "      <td>1</td>\n",
              "    </tr>\n",
              "    <tr>\n",
              "      <th>5</th>\n",
              "      <td>0</td>\n",
              "      <td>1</td>\n",
              "    </tr>\n",
              "    <tr>\n",
              "      <th>6</th>\n",
              "      <td>0</td>\n",
              "      <td>0</td>\n",
              "    </tr>\n",
              "    <tr>\n",
              "      <th>7</th>\n",
              "      <td>0</td>\n",
              "      <td>0</td>\n",
              "    </tr>\n",
              "    <tr>\n",
              "      <th>8</th>\n",
              "      <td>1</td>\n",
              "      <td>1</td>\n",
              "    </tr>\n",
              "    <tr>\n",
              "      <th>10</th>\n",
              "      <td>0</td>\n",
              "      <td>0</td>\n",
              "    </tr>\n",
              "    <tr>\n",
              "      <th>11</th>\n",
              "      <td>0</td>\n",
              "      <td>0</td>\n",
              "    </tr>\n",
              "    <tr>\n",
              "      <th>12</th>\n",
              "      <td>1</td>\n",
              "      <td>0</td>\n",
              "    </tr>\n",
              "    <tr>\n",
              "      <th>13</th>\n",
              "      <td>0</td>\n",
              "      <td>1</td>\n",
              "    </tr>\n",
              "    <tr>\n",
              "      <th>14</th>\n",
              "      <td>1</td>\n",
              "      <td>1</td>\n",
              "    </tr>\n",
              "    <tr>\n",
              "      <th>15</th>\n",
              "      <td>1</td>\n",
              "      <td>1</td>\n",
              "    </tr>\n",
              "    <tr>\n",
              "      <th>16</th>\n",
              "      <td>1</td>\n",
              "      <td>1</td>\n",
              "    </tr>\n",
              "    <tr>\n",
              "      <th>17</th>\n",
              "      <td>0</td>\n",
              "      <td>1</td>\n",
              "    </tr>\n",
              "    <tr>\n",
              "      <th>18</th>\n",
              "      <td>1</td>\n",
              "      <td>1</td>\n",
              "    </tr>\n",
              "    <tr>\n",
              "      <th>19</th>\n",
              "      <td>0</td>\n",
              "      <td>0</td>\n",
              "    </tr>\n",
              "    <tr>\n",
              "      <th>21</th>\n",
              "      <td>1</td>\n",
              "      <td>1</td>\n",
              "    </tr>\n",
              "    <tr>\n",
              "      <th>22</th>\n",
              "      <td>0</td>\n",
              "      <td>0</td>\n",
              "    </tr>\n",
              "    <tr>\n",
              "      <th>24</th>\n",
              "      <td>1</td>\n",
              "      <td>0</td>\n",
              "    </tr>\n",
              "    <tr>\n",
              "      <th>25</th>\n",
              "      <td>1</td>\n",
              "      <td>1</td>\n",
              "    </tr>\n",
              "    <tr>\n",
              "      <th>26</th>\n",
              "      <td>1</td>\n",
              "      <td>1</td>\n",
              "    </tr>\n",
              "    <tr>\n",
              "      <th>27</th>\n",
              "      <td>0</td>\n",
              "      <td>1</td>\n",
              "    </tr>\n",
              "    <tr>\n",
              "      <th>28</th>\n",
              "      <td>1</td>\n",
              "      <td>1</td>\n",
              "    </tr>\n",
              "    <tr>\n",
              "      <th>30</th>\n",
              "      <td>1</td>\n",
              "      <td>0</td>\n",
              "    </tr>\n",
              "    <tr>\n",
              "      <th>32</th>\n",
              "      <td>1</td>\n",
              "      <td>1</td>\n",
              "    </tr>\n",
              "    <tr>\n",
              "      <th>33</th>\n",
              "      <td>0</td>\n",
              "      <td>1</td>\n",
              "    </tr>\n",
              "    <tr>\n",
              "      <th>34</th>\n",
              "      <td>0</td>\n",
              "      <td>0</td>\n",
              "    </tr>\n",
              "  </tbody>\n",
              "</table>\n",
              "</div>\n",
              "      <button class=\"colab-df-convert\" onclick=\"convertToInteractive('df-8cc1c0cc-1dba-4ee3-a3bd-6df354dd42ad')\"\n",
              "              title=\"Convert this dataframe to an interactive table.\"\n",
              "              style=\"display:none;\">\n",
              "        \n",
              "  <svg xmlns=\"http://www.w3.org/2000/svg\" height=\"24px\"viewBox=\"0 0 24 24\"\n",
              "       width=\"24px\">\n",
              "    <path d=\"M0 0h24v24H0V0z\" fill=\"none\"/>\n",
              "    <path d=\"M18.56 5.44l.94 2.06.94-2.06 2.06-.94-2.06-.94-.94-2.06-.94 2.06-2.06.94zm-11 1L8.5 8.5l.94-2.06 2.06-.94-2.06-.94L8.5 2.5l-.94 2.06-2.06.94zm10 10l.94 2.06.94-2.06 2.06-.94-2.06-.94-.94-2.06-.94 2.06-2.06.94z\"/><path d=\"M17.41 7.96l-1.37-1.37c-.4-.4-.92-.59-1.43-.59-.52 0-1.04.2-1.43.59L10.3 9.45l-7.72 7.72c-.78.78-.78 2.05 0 2.83L4 21.41c.39.39.9.59 1.41.59.51 0 1.02-.2 1.41-.59l7.78-7.78 2.81-2.81c.8-.78.8-2.07 0-2.86zM5.41 20L4 18.59l7.72-7.72 1.47 1.35L5.41 20z\"/>\n",
              "  </svg>\n",
              "      </button>\n",
              "      \n",
              "  <style>\n",
              "    .colab-df-container {\n",
              "      display:flex;\n",
              "      flex-wrap:wrap;\n",
              "      gap: 12px;\n",
              "    }\n",
              "\n",
              "    .colab-df-convert {\n",
              "      background-color: #E8F0FE;\n",
              "      border: none;\n",
              "      border-radius: 50%;\n",
              "      cursor: pointer;\n",
              "      display: none;\n",
              "      fill: #1967D2;\n",
              "      height: 32px;\n",
              "      padding: 0 0 0 0;\n",
              "      width: 32px;\n",
              "    }\n",
              "\n",
              "    .colab-df-convert:hover {\n",
              "      background-color: #E2EBFA;\n",
              "      box-shadow: 0px 1px 2px rgba(60, 64, 67, 0.3), 0px 1px 3px 1px rgba(60, 64, 67, 0.15);\n",
              "      fill: #174EA6;\n",
              "    }\n",
              "\n",
              "    [theme=dark] .colab-df-convert {\n",
              "      background-color: #3B4455;\n",
              "      fill: #D2E3FC;\n",
              "    }\n",
              "\n",
              "    [theme=dark] .colab-df-convert:hover {\n",
              "      background-color: #434B5C;\n",
              "      box-shadow: 0px 1px 3px 1px rgba(0, 0, 0, 0.15);\n",
              "      filter: drop-shadow(0px 1px 2px rgba(0, 0, 0, 0.3));\n",
              "      fill: #FFFFFF;\n",
              "    }\n",
              "  </style>\n",
              "\n",
              "      <script>\n",
              "        const buttonEl =\n",
              "          document.querySelector('#df-8cc1c0cc-1dba-4ee3-a3bd-6df354dd42ad button.colab-df-convert');\n",
              "        buttonEl.style.display =\n",
              "          google.colab.kernel.accessAllowed ? 'block' : 'none';\n",
              "\n",
              "        async function convertToInteractive(key) {\n",
              "          const element = document.querySelector('#df-8cc1c0cc-1dba-4ee3-a3bd-6df354dd42ad');\n",
              "          const dataTable =\n",
              "            await google.colab.kernel.invokeFunction('convertToInteractive',\n",
              "                                                     [key], {});\n",
              "          if (!dataTable) return;\n",
              "\n",
              "          const docLinkHtml = 'Like what you see? Visit the ' +\n",
              "            '<a target=\"_blank\" href=https://colab.research.google.com/notebooks/data_table.ipynb>data table notebook</a>'\n",
              "            + ' to learn more about interactive tables.';\n",
              "          element.innerHTML = '';\n",
              "          dataTable['output_type'] = 'display_data';\n",
              "          await google.colab.output.renderOutput(dataTable, element);\n",
              "          const docLink = document.createElement('div');\n",
              "          docLink.innerHTML = docLinkHtml;\n",
              "          element.appendChild(docLink);\n",
              "        }\n",
              "      </script>\n",
              "    </div>\n",
              "  </div>\n",
              "  "
            ]
          },
          "metadata": {},
          "execution_count": 25
        }
      ],
      "source": [
        "y_pred_df[0:30]"
      ]
    },
    {
      "cell_type": "code",
      "execution_count": 26,
      "metadata": {
        "colab": {
          "base_uri": "https://localhost:8080/"
        },
        "id": "0f4Xo3fSsbay",
        "outputId": "427ac705-8db5-4085-8750-ea7ca241aa03"
      },
      "outputs": [
        {
          "output_type": "stream",
          "name": "stdout",
          "text": [
            "776\n",
            "1096\n"
          ]
        },
        {
          "output_type": "execute_result",
          "data": {
            "text/plain": [
              "0.708029197080292"
            ]
          },
          "metadata": {},
          "execution_count": 26
        }
      ],
      "source": [
        "'''With the code below, we are finding out the cases where the model predictions\n",
        "match the actual values in the data, and cross-checking the accuracy of the model'''\n",
        "print(len(y_pred_df[y_pred_df['actual']==y_pred_df['predictions']]))\n",
        "print(len(y_pred_df))\n",
        "\n",
        "len(y_pred_df[y_pred_df['actual']==y_pred_df['predictions']])/len(y_pred_df)"
      ]
    },
    {
      "cell_type": "code",
      "execution_count": 27,
      "metadata": {
        "colab": {
          "base_uri": "https://localhost:8080/"
        },
        "id": "Csmn48iosbay",
        "outputId": "d6e23d03-b80c-4c18-86a4-dbee39784e30"
      },
      "outputs": [
        {
          "output_type": "stream",
          "name": "stdout",
          "text": [
            "[[381 197]\n",
            " [123 395]]\n"
          ]
        }
      ],
      "source": [
        "# Confusion Matrix for the model accuracy\n",
        "from sklearn.metrics import confusion_matrix\n",
        "cm = confusion_matrix(Y,y_pred)\n",
        "print(cm)\n",
        "\n",
        "#Left diagonal talks about correct predictions by model\n",
        "#Right diagonal talks about incorrectly classified observations or errors.\n",
        "#The lesser the values in the right diagonal, the better is your model."
      ]
    },
    {
      "cell_type": "code",
      "execution_count": 28,
      "metadata": {
        "id": "LoAbfrs4sbaz"
      },
      "outputs": [],
      "source": [
        "TP=len(y_pred_df[(y_pred_df['actual']==1) & (y_pred_df['predictions']==1)])\n",
        "TN=len(y_pred_df[(y_pred_df['actual']==0) & (y_pred_df['predictions']==0)])\n",
        "FP=len(y_pred_df[(y_pred_df['actual']==0) & (y_pred_df['predictions']==1)])\n",
        "FN=len(y_pred_df[(y_pred_df['actual']==1) & (y_pred_df['predictions']==0)])"
      ]
    },
    {
      "cell_type": "code",
      "execution_count": 29,
      "metadata": {
        "colab": {
          "base_uri": "https://localhost:8080/"
        },
        "id": "sFQ-GBbwsbaz",
        "outputId": "2ce33282-f4d6-42dd-dcaa-d57ca54eb5e2"
      },
      "outputs": [
        {
          "output_type": "stream",
          "name": "stdout",
          "text": [
            "True Positives 395\n",
            "True Negatives 381\n",
            "False Positives 197\n",
            "False Negatives 123\n"
          ]
        }
      ],
      "source": [
        "print('True Positives', TP)\n",
        "print('True Negatives',TN)\n",
        "print('False Positives', FP)\n",
        "print('False Negatives', FN)"
      ]
    },
    {
      "cell_type": "code",
      "execution_count": 30,
      "metadata": {
        "colab": {
          "base_uri": "https://localhost:8080/"
        },
        "id": "VpNLujVjsba0",
        "outputId": "559bfc05-8f36-421a-91a0-6179c59e8612"
      },
      "outputs": [
        {
          "output_type": "execute_result",
          "data": {
            "text/plain": [
              "70.8029197080292"
            ]
          },
          "metadata": {},
          "execution_count": 30
        }
      ],
      "source": [
        "#Checking for Accuracy in terms of percentage\n",
        "((381+395)/(381+197+123+395))*100"
      ]
    },
    {
      "cell_type": "code",
      "execution_count": 31,
      "metadata": {
        "colab": {
          "base_uri": "https://localhost:8080/"
        },
        "id": "du-_rxo2sba0",
        "outputId": "e111f1ab-f515-4a1e-f291-a3045d04326e"
      },
      "outputs": [
        {
          "output_type": "stream",
          "name": "stdout",
          "text": [
            "Sensitivity 0.76\n"
          ]
        }
      ],
      "source": [
        "#Checking for Sensitivity/Recall\n",
        "Sensitivity=(TP/(TP+FN))\n",
        "((395)/(395+123))*100\n",
        "print('Sensitivity',round(Sensitivity,2))"
      ]
    },
    {
      "cell_type": "code",
      "execution_count": 32,
      "metadata": {
        "colab": {
          "base_uri": "https://localhost:8080/"
        },
        "id": "AMhMvma0sba1",
        "outputId": "66812d64-8081-48be-8c8b-7d03e68f79d1"
      },
      "outputs": [
        {
          "output_type": "stream",
          "name": "stdout",
          "text": [
            "Specificity 0.66\n"
          ]
        }
      ],
      "source": [
        "#Checking for Specificity\n",
        "Specificity=(TN/(TN+FP))\n",
        "((381)/(381+197))*100\n",
        "print('Specificity',round(Specificity,2))"
      ]
    },
    {
      "cell_type": "code",
      "execution_count": 33,
      "metadata": {
        "colab": {
          "base_uri": "https://localhost:8080/"
        },
        "id": "x2WSPxyLsba1",
        "outputId": "1d037052-5551-4b6a-b20e-005d9e781403"
      },
      "outputs": [
        {
          "output_type": "stream",
          "name": "stdout",
          "text": [
            "Precision 0.67\n"
          ]
        }
      ],
      "source": [
        "#Checking for Precision\n",
        "Precision=(TP/(TP+FP))\n",
        "((395)/(395+197))*100\n",
        "print('Precision',round(Precision,2))"
      ]
    },
    {
      "cell_type": "code",
      "execution_count": 34,
      "metadata": {
        "colab": {
          "base_uri": "https://localhost:8080/"
        },
        "id": "y5O67xp5sba1",
        "outputId": "32915e90-77d0-4335-9530-69fdd147ccaa"
      },
      "outputs": [
        {
          "output_type": "stream",
          "name": "stdout",
          "text": [
            "F_Score 0.71\n"
          ]
        }
      ],
      "source": [
        "#Checking for F-Score\n",
        "F_Score=(2*Precision*Sensitivity)/(Precision+Sensitivity)\n",
        "print('F_Score',round(F_Score,2))"
      ]
    },
    {
      "cell_type": "code",
      "execution_count": 35,
      "metadata": {
        "colab": {
          "base_uri": "https://localhost:8080/"
        },
        "id": "IYqxxg7isba2",
        "outputId": "1f5a5033-07be-471d-ad8b-b2f7d33c57fb"
      },
      "outputs": [
        {
          "output_type": "stream",
          "name": "stdout",
          "text": [
            "              precision    recall  f1-score   support\n",
            "\n",
            "           0       0.76      0.66      0.70       578\n",
            "           1       0.67      0.76      0.71       518\n",
            "\n",
            "    accuracy                           0.71      1096\n",
            "   macro avg       0.71      0.71      0.71      1096\n",
            "weighted avg       0.71      0.71      0.71      1096\n",
            "\n"
          ]
        }
      ],
      "source": [
        "#Classification report\n",
        "from sklearn.metrics import classification_report\n",
        "print(classification_report(Y,y_pred))"
      ]
    },
    {
      "cell_type": "code",
      "execution_count": 36,
      "metadata": {
        "id": "5d30AnhNsbbL"
      },
      "outputs": [],
      "source": [
        "# ROC Curve"
      ]
    },
    {
      "cell_type": "code",
      "execution_count": 37,
      "metadata": {
        "scrolled": true,
        "colab": {
          "base_uri": "https://localhost:8080/",
          "height": 484
        },
        "id": "4NH3M1epsbbL",
        "outputId": "1b7c3240-96eb-46ba-b9da-a0233741fc30"
      },
      "outputs": [
        {
          "output_type": "stream",
          "name": "stdout",
          "text": [
            "0.7108589063606365\n"
          ]
        },
        {
          "output_type": "execute_result",
          "data": {
            "text/plain": [
              "Text(0, 0.5, 'True Positive Rate / Sensitivity')"
            ]
          },
          "metadata": {},
          "execution_count": 37
        },
        {
          "output_type": "display_data",
          "data": {
            "text/plain": [
              "<Figure size 640x480 with 1 Axes>"
            ],
            "image/png": "[encoded data removed]"
          },
          "metadata": {}
        }
      ],
      "source": [
        "#ROC = Receiver Operating Curve\n",
        "#AUC = Area Under Curve\n",
        "#The greater the area under the curve, the better the model.\n",
        "from sklearn.metrics import roc_curve\n",
        "from sklearn.metrics import roc_auc_score\n",
        "\n",
        "fpr, tpr, thresholds = roc_curve(Y, classifier.predict_proba(X)[:,1])\n",
        "\n",
        "auc = roc_auc_score(Y, y_pred)\n",
        "print(auc)\n",
        "\n",
        "import matplotlib.pyplot as plt\n",
        "plt.plot(fpr, tpr, color='red', label='logit model ( area  = %0.2f)'%auc)\n",
        "plt.plot([0, 1], [0, 1], 'k--')\n",
        "plt.xlabel('False Positive Rate or [1 - True Negative Rate] / (1 - Specificity)')\n",
        "plt.ylabel('True Positive Rate / Sensitivity')"
      ]
    },
    {
      "cell_type": "code",
      "execution_count": 38,
      "metadata": {
        "colab": {
          "base_uri": "https://localhost:8080/"
        },
        "id": "Smpeql4RsbbL",
        "outputId": "a592c64a-f3e5-4021-8e62-027a91843252"
      },
      "outputs": [
        {
          "output_type": "execute_result",
          "data": {
            "text/plain": [
              "0.7108589063606365"
            ]
          },
          "metadata": {},
          "execution_count": 38
        }
      ],
      "source": [
        "auc"
      ]
    },
    {
      "cell_type": "code",
      "execution_count": 39,
      "metadata": {
        "colab": {
          "base_uri": "https://localhost:8080/"
        },
        "id": "rYbwR0iFsbbM",
        "outputId": "df6c58f7-3781-46e9-eb62-01b68043ea25"
      },
      "outputs": [
        {
          "output_type": "execute_result",
          "data": {
            "text/plain": [
              "array([0.        , 0.0019305 , 0.003861  , 0.003861  , 0.00965251,\n",
              "       0.00965251, 0.02316602, 0.02316602, 0.03667954, 0.03667954,\n",
              "       0.04633205, 0.04633205, 0.05791506, 0.05791506, 0.06370656,\n",
              "       0.06370656, 0.06949807, 0.06949807, 0.07722008, 0.07722008,\n",
              "       0.08880309, 0.08880309, 0.0984556 , 0.0984556 , 0.1023166 ,\n",
              "       0.1023166 , 0.1042471 , 0.1042471 , 0.11196911, 0.11196911,\n",
              "       0.11389961, 0.11389961, 0.11583012, 0.11583012, 0.12741313,\n",
              "       0.13127413, 0.14285714, 0.14285714, 0.14671815, 0.14671815,\n",
              "       0.17760618, 0.17760618, 0.17953668, 0.17953668, 0.18146718,\n",
              "       0.18146718, 0.19305019, 0.19305019, 0.1988417 , 0.1988417 ,\n",
              "       0.2007722 , 0.2007722 , 0.2007722 , 0.2027027 , 0.2027027 ,\n",
              "       0.20849421, 0.20849421, 0.21042471, 0.21042471, 0.22393822,\n",
              "       0.22393822, 0.22586873, 0.22586873, 0.22779923, 0.22779923,\n",
              "       0.23166023, 0.23166023, 0.23359073, 0.23359073, 0.23745174,\n",
              "       0.23745174, 0.24517375, 0.24517375, 0.25482625, 0.25482625,\n",
              "       0.25868726, 0.25868726, 0.26447876, 0.26447876, 0.26640927,\n",
              "       0.26640927, 0.27992278, 0.27992278, 0.29343629, 0.29343629,\n",
              "       0.3030888 , 0.3030888 , 0.30501931, 0.30501931, 0.30694981,\n",
              "       0.30694981, 0.31274131, 0.31274131, 0.32432432, 0.32432432,\n",
              "       0.32818533, 0.32818533, 0.33976834, 0.33976834, 0.34362934,\n",
              "       0.34555985, 0.37065637, 0.37065637, 0.37451737, 0.37451737,\n",
              "       0.39189189, 0.39189189, 0.39382239, 0.39382239, 0.3996139 ,\n",
              "       0.4015444 , 0.40540541, 0.40540541, 0.40733591, 0.40733591,\n",
              "       0.41312741, 0.41312741, 0.41505792, 0.41505792, 0.41891892,\n",
              "       0.41891892, 0.42084942, 0.42084942, 0.42471042, 0.42471042,\n",
              "       0.42664093, 0.42664093, 0.42857143, 0.42857143, 0.44015444,\n",
              "       0.44015444, 0.44594595, 0.44594595, 0.45366795, 0.45366795,\n",
              "       0.46718147, 0.46718147, 0.47683398, 0.47683398, 0.47876448,\n",
              "       0.47876448, 0.48262548, 0.48262548, 0.48455598, 0.48455598,\n",
              "       0.49034749, 0.49034749, 0.49420849, 0.49420849, 0.496139  ,\n",
              "       0.496139  , 0.4980695 , 0.4980695 , 0.5019305 , 0.5019305 ,\n",
              "       0.503861  , 0.503861  , 0.50772201, 0.50772201, 0.51737452,\n",
              "       0.51737452, 0.52123552, 0.52123552, 0.52702703, 0.52702703,\n",
              "       0.52895753, 0.52895753, 0.54826255, 0.54826255, 0.55212355,\n",
              "       0.55212355, 0.55791506, 0.55791506, 0.56370656, 0.56370656,\n",
              "       0.56563707, 0.56563707, 0.57142857, 0.57142857, 0.57335907,\n",
              "       0.57335907, 0.57528958, 0.57528958, 0.57722008, 0.57722008,\n",
              "       0.58301158, 0.58301158, 0.5984556 , 0.5984556 , 0.6042471 ,\n",
              "       0.6042471 , 0.60617761, 0.60617761, 0.61196911, 0.61196911,\n",
              "       0.61776062, 0.61776062, 0.61969112, 0.61969112, 0.62355212,\n",
              "       0.62355212, 0.62548263, 0.62548263, 0.63127413, 0.63127413,\n",
              "       0.63320463, 0.63320463, 0.63899614, 0.63899614, 0.64864865,\n",
              "       0.64864865, 0.65250965, 0.65250965, 0.65637066, 0.66023166,\n",
              "       0.66409266, 0.66409266, 0.66988417, 0.66988417, 0.67374517,\n",
              "       0.67374517, 0.67760618, 0.67760618, 0.67953668, 0.67953668,\n",
              "       0.68146718, 0.68146718, 0.68339768, 0.68339768, 0.68725869,\n",
              "       0.68725869, 0.69111969, 0.69111969, 0.6988417 , 0.6988417 ,\n",
              "       0.7007722 , 0.7007722 , 0.7046332 , 0.7046332 , 0.70849421,\n",
              "       0.70849421, 0.71042471, 0.71042471, 0.71235521, 0.71235521,\n",
              "       0.72007722, 0.72007722, 0.72200772, 0.72200772, 0.72393822,\n",
              "       0.72393822, 0.73359073, 0.73359073, 0.73552124, 0.73552124,\n",
              "       0.73745174, 0.73745174, 0.74131274, 0.74131274, 0.74517375,\n",
              "       0.74517375, 0.75096525, 0.75096525, 0.75482625, 0.75482625,\n",
              "       0.75868726, 0.75868726, 0.76254826, 0.76254826, 0.76447876,\n",
              "       0.76447876, 0.76640927, 0.76640927, 0.77413127, 0.77413127,\n",
              "       0.77606178, 0.77606178, 0.77992278, 0.77992278, 0.78185328,\n",
              "       0.78185328, 0.78378378, 0.78378378, 0.78764479, 0.78764479,\n",
              "       0.78957529, 0.78957529, 0.80694981, 0.80694981, 0.81081081,\n",
              "       0.81081081, 0.81274131, 0.81274131, 0.81467181, 0.81467181,\n",
              "       0.81660232, 0.81660232, 0.81853282, 0.81853282, 0.82046332,\n",
              "       0.82046332, 0.82239382, 0.82239382, 0.82432432, 0.82432432,\n",
              "       0.82625483, 0.82625483, 0.83011583, 0.83011583, 0.83590734,\n",
              "       0.83590734, 0.83976834, 0.83976834, 0.84169884, 0.84169884,\n",
              "       0.84362934, 0.84362934, 0.84749035, 0.84749035, 0.84942085,\n",
              "       0.84942085, 0.85135135, 0.85135135, 0.85328185, 0.85328185,\n",
              "       0.85714286, 0.85714286, 0.85907336, 0.85907336, 0.86100386,\n",
              "       0.86293436, 0.86486486, 0.86486486, 0.86679537, 0.86679537,\n",
              "       0.86872587, 0.86872587, 0.87065637, 0.87065637, 0.87258687,\n",
              "       0.87258687, 0.87451737, 0.87451737, 0.87644788, 0.87644788,\n",
              "       0.88030888, 0.88030888, 0.88223938, 0.88223938, 0.88416988,\n",
              "       0.88416988, 0.88610039, 0.88610039, 0.88803089, 0.88803089,\n",
              "       0.88996139, 0.88996139, 0.89189189, 0.89189189, 0.8976834 ,\n",
              "       0.8976834 , 0.9015444 , 0.9015444 , 0.90540541, 0.90540541,\n",
              "       0.90926641, 0.90926641, 0.91119691, 0.91119691, 0.91312741,\n",
              "       0.91312741, 0.91505792, 0.91505792, 0.91698842, 0.91698842,\n",
              "       0.91891892, 0.91891892, 0.92084942, 0.92084942, 0.92277992,\n",
              "       0.92277992, 0.92471042, 0.92471042, 0.92664093, 0.92664093,\n",
              "       0.93050193, 0.93050193, 0.93436293, 0.93436293, 0.93822394,\n",
              "       0.93822394, 0.94015444, 0.94015444, 0.94208494, 0.94208494,\n",
              "       0.94980695, 0.94980695, 0.95173745, 0.95173745, 0.95366795,\n",
              "       0.95366795, 0.95559846, 0.95559846, 0.95752896, 0.95752896,\n",
              "       0.95945946, 0.95945946, 0.96138996, 0.96138996, 0.96332046,\n",
              "       0.96332046, 0.96525097, 0.96525097, 0.96718147, 0.96718147,\n",
              "       0.97104247, 0.97104247, 0.97297297, 0.97297297, 0.97490347,\n",
              "       0.97490347, 0.97876448, 0.97876448, 0.97876448, 0.98069498,\n",
              "       0.98069498, 0.98262548, 0.98262548, 0.98455598, 0.98455598,\n",
              "       0.98648649, 0.98648649, 0.98841699, 0.98841699, 0.99034749,\n",
              "       0.99034749, 0.99227799, 0.99227799, 0.99420849, 0.99420849,\n",
              "       0.996139  , 0.996139  , 0.9980695 , 0.9980695 , 1.        ,\n",
              "       1.        ])"
            ]
          },
          "metadata": {},
          "execution_count": 39
        }
      ],
      "source": [
        "tpr"
      ]
    },
    {
      "cell_type": "code",
      "execution_count": 40,
      "metadata": {
        "colab": {
          "base_uri": "https://localhost:8080/"
        },
        "id": "Mx7cjGVSsbbM",
        "outputId": "31911a89-15cf-4602-ec7c-486f5058b7dc"
      },
      "outputs": [
        {
          "output_type": "execute_result",
          "data": {
            "text/plain": [
              "array([0.        , 0.        , 0.        , 0.0017301 , 0.0017301 ,\n",
              "       0.00346021, 0.00346021, 0.00519031, 0.00519031, 0.00865052,\n",
              "       0.00865052, 0.01038062, 0.01038062, 0.01211073, 0.01211073,\n",
              "       0.01384083, 0.01384083, 0.01557093, 0.01557093, 0.01730104,\n",
              "       0.01730104, 0.01903114, 0.01903114, 0.02076125, 0.02076125,\n",
              "       0.02249135, 0.02249135, 0.02422145, 0.02422145, 0.02768166,\n",
              "       0.02768166, 0.02941176, 0.02941176, 0.03287197, 0.03287197,\n",
              "       0.03287197, 0.03287197, 0.03460208, 0.03460208, 0.03633218,\n",
              "       0.03633218, 0.03806228, 0.03979239, 0.04152249, 0.04152249,\n",
              "       0.0432526 , 0.0432526 , 0.0449827 , 0.0449827 , 0.0467128 ,\n",
              "       0.0467128 , 0.05017301, 0.05190311, 0.05190311, 0.05363322,\n",
              "       0.05363322, 0.05536332, 0.05536332, 0.05709343, 0.05709343,\n",
              "       0.06055363, 0.06055363, 0.06228374, 0.06228374, 0.06401384,\n",
              "       0.06401384, 0.06574394, 0.06574394, 0.07093426, 0.07093426,\n",
              "       0.07266436, 0.07266436, 0.07439446, 0.07439446, 0.07612457,\n",
              "       0.07612457, 0.07785467, 0.07785467, 0.07958478, 0.07958478,\n",
              "       0.08304498, 0.08304498, 0.08477509, 0.08477509, 0.08650519,\n",
              "       0.08650519, 0.08823529, 0.08823529, 0.0899654 , 0.0899654 ,\n",
              "       0.09342561, 0.09342561, 0.09515571, 0.09515571, 0.09688581,\n",
              "       0.09688581, 0.09861592, 0.09861592, 0.10034602, 0.10034602,\n",
              "       0.10207612, 0.10207612, 0.10380623, 0.10380623, 0.10553633,\n",
              "       0.10553633, 0.10726644, 0.10726644, 0.10899654, 0.10899654,\n",
              "       0.11072664, 0.11072664, 0.11245675, 0.11245675, 0.11591696,\n",
              "       0.11591696, 0.11764706, 0.11764706, 0.12456747, 0.12456747,\n",
              "       0.12802768, 0.12802768, 0.12975779, 0.12975779, 0.13148789,\n",
              "       0.13148789, 0.13321799, 0.13321799, 0.1384083 , 0.1384083 ,\n",
              "       0.14013841, 0.14013841, 0.14186851, 0.14186851, 0.14359862,\n",
              "       0.14359862, 0.14532872, 0.14532872, 0.14705882, 0.14705882,\n",
              "       0.14878893, 0.14878893, 0.15051903, 0.15051903, 0.15397924,\n",
              "       0.15397924, 0.15570934, 0.15570934, 0.15743945, 0.15743945,\n",
              "       0.16089965, 0.16089965, 0.16262976, 0.16262976, 0.16608997,\n",
              "       0.16608997, 0.17128028, 0.17128028, 0.17474048, 0.17474048,\n",
              "       0.17647059, 0.17647059, 0.17820069, 0.17820069, 0.1799308 ,\n",
              "       0.1799308 , 0.1816609 , 0.1816609 , 0.183391  , 0.183391  ,\n",
              "       0.18512111, 0.18512111, 0.19204152, 0.19204152, 0.19377163,\n",
              "       0.19377163, 0.19723183, 0.19723183, 0.20069204, 0.20069204,\n",
              "       0.20242215, 0.20242215, 0.20588235, 0.20588235, 0.20761246,\n",
              "       0.20761246, 0.20934256, 0.20934256, 0.21107266, 0.21107266,\n",
              "       0.21280277, 0.21280277, 0.21972318, 0.21972318, 0.2266436 ,\n",
              "       0.2266436 , 0.2283737 , 0.2283737 , 0.23356401, 0.23356401,\n",
              "       0.23529412, 0.23529412, 0.24221453, 0.24221453, 0.24394464,\n",
              "       0.24394464, 0.24567474, 0.24567474, 0.24740484, 0.24740484,\n",
              "       0.24913495, 0.24913495, 0.25432526, 0.25432526, 0.25432526,\n",
              "       0.25432526, 0.25605536, 0.25605536, 0.25778547, 0.25778547,\n",
              "       0.26297578, 0.26297578, 0.26643599, 0.26643599, 0.26816609,\n",
              "       0.26816609, 0.2716263 , 0.2716263 , 0.27681661, 0.27681661,\n",
              "       0.28027682, 0.28027682, 0.28200692, 0.28200692, 0.28373702,\n",
              "       0.28373702, 0.28719723, 0.28719723, 0.28892734, 0.28892734,\n",
              "       0.29238754, 0.29238754, 0.29411765, 0.29411765, 0.29930796,\n",
              "       0.29930796, 0.30103806, 0.30103806, 0.30276817, 0.30276817,\n",
              "       0.30449827, 0.30449827, 0.31141869, 0.31141869, 0.31487889,\n",
              "       0.31487889, 0.316609  , 0.316609  , 0.3183391 , 0.3183391 ,\n",
              "       0.3200692 , 0.3200692 , 0.33044983, 0.33044983, 0.33391003,\n",
              "       0.33391003, 0.33737024, 0.33737024, 0.35467128, 0.35467128,\n",
              "       0.35640138, 0.35640138, 0.3633218 , 0.3633218 , 0.3650519 ,\n",
              "       0.36678201, 0.36851211, 0.36851211, 0.37716263, 0.37716263,\n",
              "       0.38581315, 0.38581315, 0.38754325, 0.38754325, 0.39100346,\n",
              "       0.39100346, 0.39446367, 0.39446367, 0.40138408, 0.40138408,\n",
              "       0.40657439, 0.40657439, 0.41522491, 0.41522491, 0.42560554,\n",
              "       0.42560554, 0.42906574, 0.42906574, 0.43252595, 0.43252595,\n",
              "       0.44290657, 0.44290657, 0.44463668, 0.44463668, 0.44636678,\n",
              "       0.44636678, 0.45847751, 0.45847751, 0.46193772, 0.46193772,\n",
              "       0.46366782, 0.46366782, 0.48442907, 0.48442907, 0.48788927,\n",
              "       0.48788927, 0.48961938, 0.48961938, 0.49134948, 0.49134948,\n",
              "       0.5017301 , 0.5017301 , 0.50519031, 0.50519031, 0.50865052,\n",
              "       0.50865052, 0.51038062, 0.51038062, 0.51211073, 0.51211073,\n",
              "       0.51384083, 0.51384083, 0.52249135, 0.52249135, 0.52595156,\n",
              "       0.52595156, 0.52768166, 0.52768166, 0.53287197, 0.53287197,\n",
              "       0.53460208, 0.53460208, 0.53633218, 0.53633218, 0.55017301,\n",
              "       0.55017301, 0.55190311, 0.55190311, 0.55709343, 0.55709343,\n",
              "       0.56920415, 0.56920415, 0.57093426, 0.57093426, 0.57266436,\n",
              "       0.57266436, 0.57958478, 0.57958478, 0.58131488, 0.58131488,\n",
              "       0.58304498, 0.58304498, 0.5916955 , 0.5916955 , 0.59515571,\n",
              "       0.59515571, 0.60207612, 0.60207612, 0.60553633, 0.60553633,\n",
              "       0.61418685, 0.61418685, 0.61937716, 0.61937716, 0.62975779,\n",
              "       0.62975779, 0.6384083 , 0.6384083 , 0.64359862, 0.64359862,\n",
              "       0.67820069, 0.67820069, 0.70069204, 0.70069204, 0.71453287,\n",
              "       0.71453287, 0.71626298, 0.71626298, 0.71972318, 0.71972318,\n",
              "       0.73183391, 0.73183391, 0.74221453, 0.74221453, 0.74913495,\n",
              "       0.74913495, 0.75951557, 0.75951557, 0.76297578, 0.76297578,\n",
              "       0.78200692, 0.78200692, 0.78892734, 0.78892734, 0.79065744,\n",
              "       0.79065744, 0.79584775, 0.79584775, 0.81487889, 0.81487889,\n",
              "       0.8200692 , 0.8200692 , 0.82698962, 0.82698962, 0.83391003,\n",
              "       0.83391003, 0.83737024, 0.83737024, 0.84775087, 0.84775087,\n",
              "       0.85294118, 0.85294118, 0.8633218 , 0.86678201, 0.86678201,\n",
              "       0.87024221, 0.87024221, 0.88581315, 0.88581315, 0.88927336,\n",
              "       0.88927336, 0.89273356, 0.89273356, 0.90311419, 0.90311419,\n",
              "       0.90657439, 0.90657439, 0.91695502, 0.91695502, 0.91868512,\n",
              "       0.91868512, 0.92041522, 0.92041522, 0.92906574, 0.92906574,\n",
              "       1.        ])"
            ]
          },
          "metadata": {},
          "execution_count": 40
        }
      ],
      "source": [
        "fpr"
      ]
    },
    {
      "cell_type": "code",
      "execution_count": 43,
      "metadata": {
        "colab": {
          "base_uri": "https://localhost:8080/"
        },
        "id": "iGEgkht3sbbN",
        "outputId": "c0c49968-8ed8-4a1c-aac9-d3626d939dd3"
      },
      "outputs": [
        {
          "output_type": "stream",
          "name": "stdout",
          "text": [
            "Optimization terminated successfully.\n",
            "         Current function value: 0.587825\n",
            "         Iterations 8\n"
          ]
        }
      ],
      "source": [
        "# importing libraries\n",
        "import statsmodels.api as sm\n",
        "import pandas as pd\n",
        "\n",
        "# loading the training dataset\n",
        "df = pd.read_csv(\"claimants.csv\")\n",
        "\n",
        "# defining the dependent and independent variables\n",
        "# Dividing our data into input and output variables\n",
        "X = claimants.iloc[:,1:]\n",
        "Y = claimants.iloc[:,0]\n",
        "\n",
        "# building the model and fitting the data\n",
        "log_reg = sm.Logit(Y, X).fit()"
      ]
    },
    {
      "cell_type": "code",
      "execution_count": 44,
      "metadata": {
        "colab": {
          "base_uri": "https://localhost:8080/",
          "height": 316
        },
        "id": "5uZBt6JNsbbN",
        "outputId": "3602dff7-6e51-42c3-ca3a-d7185f2037f6"
      },
      "outputs": [
        {
          "output_type": "execute_result",
          "data": {
            "text/plain": [
              "<class 'statsmodels.iolib.summary.Summary'>\n",
              "\"\"\"\n",
              "                           Logit Regression Results                           \n",
              "==============================================================================\n",
              "Dep. Variable:               ATTORNEY   No. Observations:                 1096\n",
              "Model:                          Logit   Df Residuals:                     1091\n",
              "Method:                           MLE   Df Model:                            4\n",
              "Date:                Sun, 09 Jul 2023   Pseudo R-squ.:                  0.1501\n",
              "Time:                        22:10:41   Log-Likelihood:                -644.26\n",
              "converged:                       True   LL-Null:                       -758.05\n",
              "Covariance Type:            nonrobust   LLR p-value:                 4.379e-48\n",
              "==============================================================================\n",
              "                 coef    std err          z      P>|z|      [0.025      0.975]\n",
              "------------------------------------------------------------------------------\n",
              "CLMSEX         0.4040      0.131      3.086      0.002       0.147       0.661\n",
              "CLMINSUR       0.4516      0.136      3.317      0.001       0.185       0.718\n",
              "SEATBELT      -0.7980      0.566     -1.411      0.158      -1.907       0.311\n",
              "CLMAGE         0.0057      0.003      1.792      0.073      -0.001       0.012\n",
              "LOSS          -0.3900      0.034    -11.349      0.000      -0.457      -0.323\n",
              "==============================================================================\n",
              "\"\"\""
            ],
            "text/html": [
              "<table class=\"simpletable\">\n",
              "<caption>Logit Regression Results</caption>\n",
              "<tr>\n",
              "  <th>Dep. Variable:</th>       <td>ATTORNEY</td>     <th>  No. Observations:  </th>  <td>  1096</td>  \n",
              "</tr>\n",
              "<tr>\n",
              "  <th>Model:</th>                 <td>Logit</td>      <th>  Df Residuals:      </th>  <td>  1091</td>  \n",
              "</tr>\n",
              "<tr>\n",
              "  <th>Method:</th>                 <td>MLE</td>       <th>  Df Model:          </th>  <td>     4</td>  \n",
              "</tr>\n",
              "<tr>\n",
              "  <th>Date:</th>            <td>Sun, 09 Jul 2023</td> <th>  Pseudo R-squ.:     </th>  <td>0.1501</td>  \n",
              "</tr>\n",
              "<tr>\n",
              "  <th>Time:</th>                <td>22:10:41</td>     <th>  Log-Likelihood:    </th> <td> -644.26</td> \n",
              "</tr>\n",
              "<tr>\n",
              "  <th>converged:</th>             <td>True</td>       <th>  LL-Null:           </th> <td> -758.05</td> \n",
              "</tr>\n",
              "<tr>\n",
              "  <th>Covariance Type:</th>     <td>nonrobust</td>    <th>  LLR p-value:       </th> <td>4.379e-48</td>\n",
              "</tr>\n",
              "</table>\n",
              "<table class=\"simpletable\">\n",
              "<tr>\n",
              "      <td></td>        <th>coef</th>     <th>std err</th>      <th>z</th>      <th>P>|z|</th>  <th>[0.025</th>    <th>0.975]</th>  \n",
              "</tr>\n",
              "<tr>\n",
              "  <th>CLMSEX</th>   <td>    0.4040</td> <td>    0.131</td> <td>    3.086</td> <td> 0.002</td> <td>    0.147</td> <td>    0.661</td>\n",
              "</tr>\n",
              "<tr>\n",
              "  <th>CLMINSUR</th> <td>    0.4516</td> <td>    0.136</td> <td>    3.317</td> <td> 0.001</td> <td>    0.185</td> <td>    0.718</td>\n",
              "</tr>\n",
              "<tr>\n",
              "  <th>SEATBELT</th> <td>   -0.7980</td> <td>    0.566</td> <td>   -1.411</td> <td> 0.158</td> <td>   -1.907</td> <td>    0.311</td>\n",
              "</tr>\n",
              "<tr>\n",
              "  <th>CLMAGE</th>   <td>    0.0057</td> <td>    0.003</td> <td>    1.792</td> <td> 0.073</td> <td>   -0.001</td> <td>    0.012</td>\n",
              "</tr>\n",
              "<tr>\n",
              "  <th>LOSS</th>     <td>   -0.3900</td> <td>    0.034</td> <td>  -11.349</td> <td> 0.000</td> <td>   -0.457</td> <td>   -0.323</td>\n",
              "</tr>\n",
              "</table>"
            ]
          },
          "metadata": {},
          "execution_count": 44
        }
      ],
      "source": [
        "log_reg.summary()"
      ]
    }
  ],
  "metadata": {
    "kernelspec": {
      "display_name": "Python 3 (ipykernel)",
      "language": "python",
      "name": "python3"
    },
    "language_info": {
      "codemirror_mode": {
        "name": "ipython",
        "version": 3
      },
      "file_extension": ".py",
      "mimetype": "text/x-python",
      "name": "python",
      "nbconvert_exporter": "python",
      "pygments_lexer": "ipython3",
      "version": "3.9.12"
    },
    "colab": {
      "provenance": [],
      "include_colab_link": true
    }
  },
  "nbformat": 4,
  "nbformat_minor": 0
}